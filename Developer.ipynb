{
 "cells": [
  {
   "cell_type": "code",
   "execution_count": 1,
   "id": "5f9f785a",
   "metadata": {},
   "outputs": [],
   "source": [
    "from mpl_toolkits.mplot3d import Axes3D\n",
    "from sklearn.preprocessing import StandardScaler\n",
    "import matplotlib.pyplot as plt\n",
    "import numpy as np\n",
    "import os # accessing directory structure\n",
    "import pandas as pd\n",
    "import math"
   ]
  },
  {
   "cell_type": "code",
   "execution_count": 2,
   "id": "cea5a872",
   "metadata": {},
   "outputs": [
    {
     "name": "stdout",
     "output_type": "stream",
     "text": [
      "horses\\testfile.csv\n",
      "['horses\\\\horses_1990.csv', 'horses\\\\horses_1991.csv', 'horses\\\\horses_1992.csv', 'horses\\\\horses_1993.csv', 'horses\\\\horses_1994.csv', 'horses\\\\horses_1995.csv', 'horses\\\\horses_1996.csv', 'horses\\\\horses_1997.csv', 'horses\\\\horses_1998.csv', 'horses\\\\horses_1999.csv', 'horses\\\\horses_2000.csv', 'horses\\\\horses_2001.csv', 'horses\\\\horses_2002.csv', 'horses\\\\horses_2003.csv', 'horses\\\\horses_2004.csv', 'horses\\\\horses_2005.csv', 'horses\\\\horses_2006.csv', 'horses\\\\horses_2007.csv', 'horses\\\\horses_2008.csv', 'horses\\\\horses_2009.csv', 'horses\\\\horses_2010.csv', 'horses\\\\horses_2011.csv', 'horses\\\\horses_2012.csv', 'horses\\\\horses_2013.csv', 'horses\\\\horses_2014.csv', 'horses\\\\horses_2015.csv', 'horses\\\\horses_2016.csv', 'horses\\\\horses_2017.csv', 'horses\\\\horses_2018.csv', 'horses\\\\horses_2019.csv', 'horses\\\\horses_2020.csv']\n",
      "['horses\\\\races_1990.csv', 'horses\\\\races_1991.csv', 'horses\\\\races_1992.csv', 'horses\\\\races_1993.csv', 'horses\\\\races_1994.csv', 'horses\\\\races_1995.csv', 'horses\\\\races_1996.csv', 'horses\\\\races_1997.csv', 'horses\\\\races_1998.csv', 'horses\\\\races_1999.csv', 'horses\\\\races_2000.csv', 'horses\\\\races_2001.csv', 'horses\\\\races_2002.csv', 'horses\\\\races_2003.csv', 'horses\\\\races_2004.csv', 'horses\\\\races_2005.csv', 'horses\\\\races_2006.csv', 'horses\\\\races_2007.csv', 'horses\\\\races_2008.csv', 'horses\\\\races_2009.csv', 'horses\\\\races_2010.csv', 'horses\\\\races_2011.csv', 'horses\\\\races_2012.csv', 'horses\\\\races_2013.csv', 'horses\\\\races_2014.csv', 'horses\\\\races_2015.csv', 'horses\\\\races_2016.csv', 'horses\\\\races_2017.csv', 'horses\\\\races_2018.csv', 'horses\\\\races_2019.csv', 'horses\\\\races_2020.csv']\n"
     ]
    }
   ],
   "source": [
    "for dirname, _, filenames in os.walk('horses'):\n",
    "    horse_files = []\n",
    "    race_files = []\n",
    "    for filename in filenames:\n",
    "        if \"horse\" in filename:\n",
    "            horse_files.append(os.path.join(dirname, filename))\n",
    "        elif \"race\" in filename:\n",
    "            race_files.append(os.path.join(dirname, filename))\n",
    "    print(os.path.join(dirname, filename))\n",
    "    print(horse_files)\n",
    "    print(race_files)"
   ]
  },
  {
   "cell_type": "code",
   "execution_count": 3,
   "id": "332c9309",
   "metadata": {},
   "outputs": [],
   "source": [
    "# Distribution graphs (histogram/bar graph) of column data\n",
    "def plotPerColumnDistribution(df, nGraphShown, nGraphPerRow):\n",
    "    nunique = df.nunique()\n",
    "    df = df[[col for col in df if nunique[col] > 1 and nunique[col] < 50]] # For displaying purposes, pick columns that have between 1 and 50 unique values\n",
    "    print(df.shape)\n",
    "    nRow, nCol = df.shape\n",
    "    columnNames = list(df)\n",
    "    print(columnNames)\n",
    "    nGraphRow = (nCol + nGraphPerRow - 1) / nGraphPerRow\n",
    "    nGraphRow = math.ceil(nGraphRow)\n",
    "    print(nGraphRow)\n",
    "    plt.figure(num = None, figsize = (6 * nGraphPerRow, 8 * nGraphRow), dpi = 80, facecolor = 'w', edgecolor = 'k')\n",
    "    for i in range(min(nCol, nGraphShown)):\n",
    "        plt.subplot(nGraphRow, nGraphPerRow, i + 1)\n",
    "        columnDf = df.iloc[:, i]\n",
    "        if (not np.issubdtype(type(columnDf.iloc[0]), np.number)):\n",
    "            valueCounts = columnDf.value_counts()\n",
    "            valueCounts.plot.bar()\n",
    "        else:\n",
    "            columnDf.hist()\n",
    "        plt.ylabel('counts')\n",
    "        plt.xticks(rotation = 90)\n",
    "        plt.title(f'{columnNames[i]} (column {i})')\n",
    "    plt.tight_layout(pad = 1.0, w_pad = 1.0, h_pad = 1.0)\n",
    "    plt.show()"
   ]
  },
  {
   "cell_type": "code",
   "execution_count": 4,
   "id": "75dc685b",
   "metadata": {
    "scrolled": false
   },
   "outputs": [
    {
     "name": "stderr",
     "output_type": "stream",
     "text": [
      "d:\\anaconda3\\lib\\site-packages\\IPython\\core\\interactiveshell.py:3266: DtypeWarning: Columns (10) have mixed types.Specify dtype option on import or set low_memory=False.\n",
      "  has_raised = await self.run_ast_nodes(code_ast.body, cell_name,\n",
      "d:\\anaconda3\\lib\\site-packages\\IPython\\core\\interactiveshell.py:3266: DtypeWarning: Columns (27) have mixed types.Specify dtype option on import or set low_memory=False.\n",
      "  has_raised = await self.run_ast_nodes(code_ast.body, cell_name,\n"
     ]
    },
    {
     "name": "stdout",
     "output_type": "stream",
     "text": [
      "There are 4107315 rows and 28 columns\n"
     ]
    },
    {
     "data": {
      "text/html": [
       "<div>\n",
       "<style scoped>\n",
       "    .dataframe tbody tr th:only-of-type {\n",
       "        vertical-align: middle;\n",
       "    }\n",
       "\n",
       "    .dataframe tbody tr th {\n",
       "        vertical-align: top;\n",
       "    }\n",
       "\n",
       "    .dataframe thead th {\n",
       "        text-align: right;\n",
       "    }\n",
       "</style>\n",
       "<table border=\"1\" class=\"dataframe\">\n",
       "  <thead>\n",
       "    <tr style=\"text-align: right;\">\n",
       "      <th></th>\n",
       "      <th>rid</th>\n",
       "      <th>horseName</th>\n",
       "      <th>age</th>\n",
       "      <th>saddle</th>\n",
       "      <th>decimalPrice</th>\n",
       "      <th>isFav</th>\n",
       "      <th>trainerName</th>\n",
       "      <th>jockeyName</th>\n",
       "      <th>position</th>\n",
       "      <th>positionL</th>\n",
       "      <th>...</th>\n",
       "      <th>OR</th>\n",
       "      <th>father</th>\n",
       "      <th>mother</th>\n",
       "      <th>gfather</th>\n",
       "      <th>runners</th>\n",
       "      <th>margin</th>\n",
       "      <th>weight</th>\n",
       "      <th>res_win</th>\n",
       "      <th>res_place</th>\n",
       "      <th>price</th>\n",
       "    </tr>\n",
       "  </thead>\n",
       "  <tbody>\n",
       "    <tr>\n",
       "      <th>0</th>\n",
       "      <td>271018</td>\n",
       "      <td>Combermere</td>\n",
       "      <td>6.0</td>\n",
       "      <td>0.0</td>\n",
       "      <td>0.222222</td>\n",
       "      <td>0</td>\n",
       "      <td>R G Frost</td>\n",
       "      <td>J Frost</td>\n",
       "      <td>1</td>\n",
       "      <td>NaN</td>\n",
       "      <td>...</td>\n",
       "      <td>NaN</td>\n",
       "      <td>Absalom</td>\n",
       "      <td>Queen's Parade</td>\n",
       "      <td>Sovereign Path</td>\n",
       "      <td>14</td>\n",
       "      <td>1.521003</td>\n",
       "      <td>69</td>\n",
       "      <td>1.0</td>\n",
       "      <td>1.0</td>\n",
       "      <td>NaN</td>\n",
       "    </tr>\n",
       "    <tr>\n",
       "      <th>1</th>\n",
       "      <td>271018</td>\n",
       "      <td>Royal Battery</td>\n",
       "      <td>6.0</td>\n",
       "      <td>0.0</td>\n",
       "      <td>0.090909</td>\n",
       "      <td>0</td>\n",
       "      <td>D H Barons</td>\n",
       "      <td>S Earle</td>\n",
       "      <td>2</td>\n",
       "      <td>10</td>\n",
       "      <td>...</td>\n",
       "      <td>NaN</td>\n",
       "      <td>Norfolk Air</td>\n",
       "      <td>All At Sea</td>\n",
       "      <td>Man The Rail</td>\n",
       "      <td>14</td>\n",
       "      <td>1.521003</td>\n",
       "      <td>69</td>\n",
       "      <td>0.0</td>\n",
       "      <td>1.0</td>\n",
       "      <td>NaN</td>\n",
       "    </tr>\n",
       "    <tr>\n",
       "      <th>2</th>\n",
       "      <td>271018</td>\n",
       "      <td>Just So</td>\n",
       "      <td>7.0</td>\n",
       "      <td>0.0</td>\n",
       "      <td>0.029412</td>\n",
       "      <td>0</td>\n",
       "      <td>J D Roberts</td>\n",
       "      <td>S Burrough</td>\n",
       "      <td>3</td>\n",
       "      <td>15</td>\n",
       "      <td>...</td>\n",
       "      <td>NaN</td>\n",
       "      <td>Sousa</td>\n",
       "      <td>Just Camilla</td>\n",
       "      <td>Ascertain I</td>\n",
       "      <td>14</td>\n",
       "      <td>1.521003</td>\n",
       "      <td>66</td>\n",
       "      <td>0.0</td>\n",
       "      <td>1.0</td>\n",
       "      <td>NaN</td>\n",
       "    </tr>\n",
       "    <tr>\n",
       "      <th>3</th>\n",
       "      <td>271018</td>\n",
       "      <td>Mandraki Shuffle</td>\n",
       "      <td>8.0</td>\n",
       "      <td>0.0</td>\n",
       "      <td>0.090909</td>\n",
       "      <td>0</td>\n",
       "      <td>Oliver Sherwood</td>\n",
       "      <td>M Richards</td>\n",
       "      <td>4</td>\n",
       "      <td>20</td>\n",
       "      <td>...</td>\n",
       "      <td>NaN</td>\n",
       "      <td>Mandalus</td>\n",
       "      <td>Indictment</td>\n",
       "      <td>Desert Call</td>\n",
       "      <td>14</td>\n",
       "      <td>1.521003</td>\n",
       "      <td>69</td>\n",
       "      <td>0.0</td>\n",
       "      <td>0.0</td>\n",
       "      <td>NaN</td>\n",
       "    </tr>\n",
       "    <tr>\n",
       "      <th>4</th>\n",
       "      <td>271018</td>\n",
       "      <td>Turnberry Dawn</td>\n",
       "      <td>8.0</td>\n",
       "      <td>0.0</td>\n",
       "      <td>0.047619</td>\n",
       "      <td>0</td>\n",
       "      <td>T B Hallett</td>\n",
       "      <td>P Richards</td>\n",
       "      <td>5</td>\n",
       "      <td>dist</td>\n",
       "      <td>...</td>\n",
       "      <td>NaN</td>\n",
       "      <td>Fair Turn</td>\n",
       "      <td>Shuil Alainn</td>\n",
       "      <td>Levanter</td>\n",
       "      <td>14</td>\n",
       "      <td>1.521003</td>\n",
       "      <td>69</td>\n",
       "      <td>0.0</td>\n",
       "      <td>0.0</td>\n",
       "      <td>NaN</td>\n",
       "    </tr>\n",
       "  </tbody>\n",
       "</table>\n",
       "<p>5 rows × 28 columns</p>\n",
       "</div>"
      ],
      "text/plain": [
       "      rid         horseName  age  saddle  decimalPrice  isFav  \\\n",
       "0  271018        Combermere  6.0     0.0      0.222222      0   \n",
       "1  271018     Royal Battery  6.0     0.0      0.090909      0   \n",
       "2  271018           Just So  7.0     0.0      0.029412      0   \n",
       "3  271018  Mandraki Shuffle  8.0     0.0      0.090909      0   \n",
       "4  271018    Turnberry Dawn  8.0     0.0      0.047619      0   \n",
       "\n",
       "       trainerName  jockeyName  position positionL  ...  OR       father  \\\n",
       "0        R G Frost     J Frost         1       NaN  ... NaN      Absalom   \n",
       "1       D H Barons     S Earle         2        10  ... NaN  Norfolk Air   \n",
       "2      J D Roberts  S Burrough         3        15  ... NaN        Sousa   \n",
       "3  Oliver Sherwood  M Richards         4        20  ... NaN     Mandalus   \n",
       "4      T B Hallett  P Richards         5      dist  ... NaN    Fair Turn   \n",
       "\n",
       "           mother         gfather  runners    margin  weight  res_win  \\\n",
       "0  Queen's Parade  Sovereign Path       14  1.521003      69      1.0   \n",
       "1      All At Sea    Man The Rail       14  1.521003      69      0.0   \n",
       "2    Just Camilla     Ascertain I       14  1.521003      66      0.0   \n",
       "3      Indictment     Desert Call       14  1.521003      69      0.0   \n",
       "4    Shuil Alainn        Levanter       14  1.521003      69      0.0   \n",
       "\n",
       "   res_place price  \n",
       "0        1.0   NaN  \n",
       "1        1.0   NaN  \n",
       "2        1.0   NaN  \n",
       "3        0.0   NaN  \n",
       "4        0.0   NaN  \n",
       "\n",
       "[5 rows x 28 columns]"
      ]
     },
     "execution_count": 4,
     "metadata": {},
     "output_type": "execute_result"
    }
   ],
   "source": [
    "#Read horse files from disk\n",
    "nRowsRead = None # specify 'None' if want to read whole file\n",
    "df1 = pd.DataFrame()\n",
    "for file in horse_files:\n",
    "    csv_data = pd.read_csv(file, delimiter=',', nrows = nRowsRead)\n",
    "    df1 = df1.append(csv_data, ignore_index=True)\n",
    "df1.dataframeName = 'horses'\n",
    "nRow, nCol = df1.shape\n",
    "print(f'There are {nRow} rows and {nCol} columns')\n",
    "df1.head()"
   ]
  },
  {
   "cell_type": "code",
   "execution_count": 5,
   "id": "c2698468",
   "metadata": {},
   "outputs": [
    {
     "data": {
      "text/html": [
       "<div>\n",
       "<style scoped>\n",
       "    .dataframe tbody tr th:only-of-type {\n",
       "        vertical-align: middle;\n",
       "    }\n",
       "\n",
       "    .dataframe tbody tr th {\n",
       "        vertical-align: top;\n",
       "    }\n",
       "\n",
       "    .dataframe thead th {\n",
       "        text-align: right;\n",
       "    }\n",
       "</style>\n",
       "<table border=\"1\" class=\"dataframe\">\n",
       "  <thead>\n",
       "    <tr style=\"text-align: right;\">\n",
       "      <th></th>\n",
       "      <th>rid</th>\n",
       "      <th>horseName</th>\n",
       "      <th>age</th>\n",
       "      <th>saddle</th>\n",
       "      <th>decimalPrice</th>\n",
       "      <th>isFav</th>\n",
       "      <th>trainerName</th>\n",
       "      <th>jockeyName</th>\n",
       "      <th>position</th>\n",
       "      <th>RPR</th>\n",
       "      <th>TR</th>\n",
       "      <th>OR</th>\n",
       "      <th>weight</th>\n",
       "      <th>res_win</th>\n",
       "      <th>res_place</th>\n",
       "    </tr>\n",
       "  </thead>\n",
       "  <tbody>\n",
       "    <tr>\n",
       "      <th>0</th>\n",
       "      <td>271018</td>\n",
       "      <td>Combermere</td>\n",
       "      <td>6.0</td>\n",
       "      <td>0.0</td>\n",
       "      <td>0.222222</td>\n",
       "      <td>0</td>\n",
       "      <td>R G Frost</td>\n",
       "      <td>J Frost</td>\n",
       "      <td>1</td>\n",
       "      <td>111.0</td>\n",
       "      <td>94.0</td>\n",
       "      <td>NaN</td>\n",
       "      <td>69</td>\n",
       "      <td>1.0</td>\n",
       "      <td>1.0</td>\n",
       "    </tr>\n",
       "    <tr>\n",
       "      <th>1</th>\n",
       "      <td>271018</td>\n",
       "      <td>Royal Battery</td>\n",
       "      <td>6.0</td>\n",
       "      <td>0.0</td>\n",
       "      <td>0.090909</td>\n",
       "      <td>0</td>\n",
       "      <td>D H Barons</td>\n",
       "      <td>S Earle</td>\n",
       "      <td>2</td>\n",
       "      <td>101.0</td>\n",
       "      <td>88.0</td>\n",
       "      <td>NaN</td>\n",
       "      <td>69</td>\n",
       "      <td>0.0</td>\n",
       "      <td>1.0</td>\n",
       "    </tr>\n",
       "    <tr>\n",
       "      <th>2</th>\n",
       "      <td>271018</td>\n",
       "      <td>Just So</td>\n",
       "      <td>7.0</td>\n",
       "      <td>0.0</td>\n",
       "      <td>0.029412</td>\n",
       "      <td>0</td>\n",
       "      <td>J D Roberts</td>\n",
       "      <td>S Burrough</td>\n",
       "      <td>3</td>\n",
       "      <td>86.0</td>\n",
       "      <td>71.0</td>\n",
       "      <td>NaN</td>\n",
       "      <td>66</td>\n",
       "      <td>0.0</td>\n",
       "      <td>1.0</td>\n",
       "    </tr>\n",
       "    <tr>\n",
       "      <th>3</th>\n",
       "      <td>271018</td>\n",
       "      <td>Mandraki Shuffle</td>\n",
       "      <td>8.0</td>\n",
       "      <td>0.0</td>\n",
       "      <td>0.090909</td>\n",
       "      <td>0</td>\n",
       "      <td>Oliver Sherwood</td>\n",
       "      <td>M Richards</td>\n",
       "      <td>4</td>\n",
       "      <td>66.0</td>\n",
       "      <td>65.0</td>\n",
       "      <td>NaN</td>\n",
       "      <td>69</td>\n",
       "      <td>0.0</td>\n",
       "      <td>0.0</td>\n",
       "    </tr>\n",
       "    <tr>\n",
       "      <th>4</th>\n",
       "      <td>271018</td>\n",
       "      <td>Turnberry Dawn</td>\n",
       "      <td>8.0</td>\n",
       "      <td>0.0</td>\n",
       "      <td>0.047619</td>\n",
       "      <td>0</td>\n",
       "      <td>T B Hallett</td>\n",
       "      <td>P Richards</td>\n",
       "      <td>5</td>\n",
       "      <td>NaN</td>\n",
       "      <td>45.0</td>\n",
       "      <td>NaN</td>\n",
       "      <td>69</td>\n",
       "      <td>0.0</td>\n",
       "      <td>0.0</td>\n",
       "    </tr>\n",
       "  </tbody>\n",
       "</table>\n",
       "</div>"
      ],
      "text/plain": [
       "      rid         horseName  age  saddle  decimalPrice  isFav  \\\n",
       "0  271018        Combermere  6.0     0.0      0.222222      0   \n",
       "1  271018     Royal Battery  6.0     0.0      0.090909      0   \n",
       "2  271018           Just So  7.0     0.0      0.029412      0   \n",
       "3  271018  Mandraki Shuffle  8.0     0.0      0.090909      0   \n",
       "4  271018    Turnberry Dawn  8.0     0.0      0.047619      0   \n",
       "\n",
       "       trainerName  jockeyName  position    RPR    TR  OR  weight  res_win  \\\n",
       "0        R G Frost     J Frost         1  111.0  94.0 NaN      69      1.0   \n",
       "1       D H Barons     S Earle         2  101.0  88.0 NaN      69      0.0   \n",
       "2      J D Roberts  S Burrough         3   86.0  71.0 NaN      66      0.0   \n",
       "3  Oliver Sherwood  M Richards         4   66.0  65.0 NaN      69      0.0   \n",
       "4      T B Hallett  P Richards         5    NaN  45.0 NaN      69      0.0   \n",
       "\n",
       "   res_place  \n",
       "0        1.0  \n",
       "1        1.0  \n",
       "2        1.0  \n",
       "3        0.0  \n",
       "4        0.0  "
      ]
     },
     "execution_count": 5,
     "metadata": {},
     "output_type": "execute_result"
    }
   ],
   "source": [
    "#Drop some columns\n",
    "df1 = df1.drop(['positionL', 'dist', 'weightSt', 'weightLb', 'overWeight', 'outHandicap', 'headGear', 'father', \n",
    "         'mother', 'gfather', 'margin', 'runners', 'price'], axis=1)\n",
    "df1.head()\n"
   ]
  },
  {
   "cell_type": "code",
   "execution_count": 6,
   "id": "dbc74ea3",
   "metadata": {
    "scrolled": true
   },
   "outputs": [
    {
     "name": "stdout",
     "output_type": "stream",
     "text": [
      "There are 396572 rows and 19 columns\n"
     ]
    },
    {
     "data": {
      "text/html": [
       "<div>\n",
       "<style scoped>\n",
       "    .dataframe tbody tr th:only-of-type {\n",
       "        vertical-align: middle;\n",
       "    }\n",
       "\n",
       "    .dataframe tbody tr th {\n",
       "        vertical-align: top;\n",
       "    }\n",
       "\n",
       "    .dataframe thead th {\n",
       "        text-align: right;\n",
       "    }\n",
       "</style>\n",
       "<table border=\"1\" class=\"dataframe\">\n",
       "  <thead>\n",
       "    <tr style=\"text-align: right;\">\n",
       "      <th></th>\n",
       "      <th>rid</th>\n",
       "      <th>course</th>\n",
       "      <th>time</th>\n",
       "      <th>date</th>\n",
       "      <th>title</th>\n",
       "      <th>rclass</th>\n",
       "      <th>band</th>\n",
       "      <th>ages</th>\n",
       "      <th>distance</th>\n",
       "      <th>condition</th>\n",
       "      <th>hurdles</th>\n",
       "      <th>prizes</th>\n",
       "      <th>winningTime</th>\n",
       "      <th>prize</th>\n",
       "      <th>metric</th>\n",
       "      <th>countryCode</th>\n",
       "      <th>ncond</th>\n",
       "      <th>class</th>\n",
       "      <th>currency</th>\n",
       "    </tr>\n",
       "  </thead>\n",
       "  <tbody>\n",
       "    <tr>\n",
       "      <th>0</th>\n",
       "      <td>271018</td>\n",
       "      <td>Exeter</td>\n",
       "      <td>03:15</td>\n",
       "      <td>90/01/01</td>\n",
       "      <td>David Garrett Memorial Challenge Trophy Novice...</td>\n",
       "      <td>NaN</td>\n",
       "      <td>NaN</td>\n",
       "      <td>6-8yo</td>\n",
       "      <td>3m1f</td>\n",
       "      <td>Soft</td>\n",
       "      <td>19 fences</td>\n",
       "      <td>[2922.5, 875.0, 420.0, 192.5]</td>\n",
       "      <td>398.3</td>\n",
       "      <td>4409.0</td>\n",
       "      <td>5028.0</td>\n",
       "      <td>GB</td>\n",
       "      <td>5</td>\n",
       "      <td>0</td>\n",
       "      <td>NaN</td>\n",
       "    </tr>\n",
       "    <tr>\n",
       "      <th>1</th>\n",
       "      <td>275156</td>\n",
       "      <td>Tramore (IRE)</td>\n",
       "      <td>02:00</td>\n",
       "      <td>90/01/01</td>\n",
       "      <td>Tattersalls Mares E.B.F. Novice Chase</td>\n",
       "      <td>NaN</td>\n",
       "      <td>NaN</td>\n",
       "      <td>NaN</td>\n",
       "      <td>2m</td>\n",
       "      <td>Soft</td>\n",
       "      <td>12 fences</td>\n",
       "      <td>[]</td>\n",
       "      <td>267.0</td>\n",
       "      <td>NaN</td>\n",
       "      <td>3218.0</td>\n",
       "      <td>IE</td>\n",
       "      <td>5</td>\n",
       "      <td>0</td>\n",
       "      <td>NaN</td>\n",
       "    </tr>\n",
       "    <tr>\n",
       "      <th>2</th>\n",
       "      <td>282203</td>\n",
       "      <td>Catterick</td>\n",
       "      <td>02:45</td>\n",
       "      <td>90/01/01</td>\n",
       "      <td>Scotch Corner Handicap Chase</td>\n",
       "      <td>NaN</td>\n",
       "      <td>0-125</td>\n",
       "      <td>NaN</td>\n",
       "      <td>1m7½f</td>\n",
       "      <td>Good To Firm</td>\n",
       "      <td>12 fences</td>\n",
       "      <td>[2238.0, 618.0, 294.0]</td>\n",
       "      <td>238.0</td>\n",
       "      <td>3150.0</td>\n",
       "      <td>3116.5</td>\n",
       "      <td>GB</td>\n",
       "      <td>2</td>\n",
       "      <td>0</td>\n",
       "      <td>NaN</td>\n",
       "    </tr>\n",
       "    <tr>\n",
       "      <th>3</th>\n",
       "      <td>298761</td>\n",
       "      <td>Cheltenham</td>\n",
       "      <td>02:30</td>\n",
       "      <td>90/01/01</td>\n",
       "      <td>A. S. W. Handicap Hurdle</td>\n",
       "      <td>NaN</td>\n",
       "      <td>NaN</td>\n",
       "      <td>NaN</td>\n",
       "      <td>2m</td>\n",
       "      <td>Good To Firm</td>\n",
       "      <td>NaN</td>\n",
       "      <td>[5117.0, 1526.0, 728.0, 329.0]</td>\n",
       "      <td>243.8</td>\n",
       "      <td>7700.0</td>\n",
       "      <td>3218.0</td>\n",
       "      <td>GB</td>\n",
       "      <td>2</td>\n",
       "      <td>0</td>\n",
       "      <td>NaN</td>\n",
       "    </tr>\n",
       "    <tr>\n",
       "      <th>4</th>\n",
       "      <td>301118</td>\n",
       "      <td>Windsor</td>\n",
       "      <td>03:30</td>\n",
       "      <td>90/01/01</td>\n",
       "      <td>Touchen End Handicap Hurdle</td>\n",
       "      <td>NaN</td>\n",
       "      <td>0-115</td>\n",
       "      <td>NaN</td>\n",
       "      <td>2m6f</td>\n",
       "      <td>Good</td>\n",
       "      <td>NaN</td>\n",
       "      <td>[2344.8, 652.8, 314.4]</td>\n",
       "      <td>330.7</td>\n",
       "      <td>3312.0</td>\n",
       "      <td>4424.0</td>\n",
       "      <td>GB</td>\n",
       "      <td>1</td>\n",
       "      <td>0</td>\n",
       "      <td>NaN</td>\n",
       "    </tr>\n",
       "  </tbody>\n",
       "</table>\n",
       "</div>"
      ],
      "text/plain": [
       "      rid         course   time      date  \\\n",
       "0  271018         Exeter  03:15  90/01/01   \n",
       "1  275156  Tramore (IRE)  02:00  90/01/01   \n",
       "2  282203      Catterick  02:45  90/01/01   \n",
       "3  298761     Cheltenham  02:30  90/01/01   \n",
       "4  301118        Windsor  03:30  90/01/01   \n",
       "\n",
       "                                               title rclass   band   ages  \\\n",
       "0  David Garrett Memorial Challenge Trophy Novice...    NaN    NaN  6-8yo   \n",
       "1              Tattersalls Mares E.B.F. Novice Chase    NaN    NaN    NaN   \n",
       "2                       Scotch Corner Handicap Chase    NaN  0-125    NaN   \n",
       "3                           A. S. W. Handicap Hurdle    NaN    NaN    NaN   \n",
       "4                        Touchen End Handicap Hurdle    NaN  0-115    NaN   \n",
       "\n",
       "  distance     condition    hurdles                          prizes  \\\n",
       "0     3m1f          Soft  19 fences   [2922.5, 875.0, 420.0, 192.5]   \n",
       "1       2m          Soft  12 fences                              []   \n",
       "2    1m7½f  Good To Firm  12 fences          [2238.0, 618.0, 294.0]   \n",
       "3       2m  Good To Firm        NaN  [5117.0, 1526.0, 728.0, 329.0]   \n",
       "4     2m6f          Good        NaN          [2344.8, 652.8, 314.4]   \n",
       "\n",
       "   winningTime   prize  metric countryCode ncond  class currency  \n",
       "0        398.3  4409.0  5028.0          GB     5      0      NaN  \n",
       "1        267.0     NaN  3218.0          IE     5      0      NaN  \n",
       "2        238.0  3150.0  3116.5          GB     2      0      NaN  \n",
       "3        243.8  7700.0  3218.0          GB     2      0      NaN  \n",
       "4        330.7  3312.0  4424.0          GB     1      0      NaN  "
      ]
     },
     "execution_count": 6,
     "metadata": {},
     "output_type": "execute_result"
    }
   ],
   "source": [
    "#Read race files from disk\n",
    "nRowsRead = None # specify 'None' if want to read whole file\n",
    "df2 = pd.DataFrame()\n",
    "for file in race_files:\n",
    "    csv_data = pd.read_csv(file, delimiter=',', nrows = nRowsRead)\n",
    "    df2 = df2.append(csv_data, ignore_index=True)\n",
    "df2.dataframeName = 'races'\n",
    "nRow, nCol = df2.shape\n",
    "print(f'There are {nRow} rows and {nCol} columns')\n",
    "df2.head()"
   ]
  },
  {
   "cell_type": "code",
   "execution_count": 7,
   "id": "409a4c88",
   "metadata": {
    "scrolled": true
   },
   "outputs": [
    {
     "name": "stdout",
     "output_type": "stream",
     "text": [
      "Going:  ['Soft' 'Good To Firm' 'Good' 'Standard' 'Yielding' 'Good To Soft' 'Heavy'\n",
      " 'Good To Yielding' 'Slow' 'Firm' 'Yielding To Soft' 'Hard' 'Fast'\n",
      " 'Soft To Heavy' 'Very Soft' nan 'Holding' 'Sloppy' 'Muddy'\n",
      " 'Standard To Slow' 'Standard To Fast' 'Frozen' 'Abandoned'] Count:  Good                103936\n",
      "Good To Firm         69409\n",
      "Standard             56992\n",
      "Soft                 45755\n",
      "Good To Soft         38286\n",
      "Heavy                22801\n",
      "Firm                 17610\n",
      "Fast                  9578\n",
      "Yielding              7054\n",
      "Good To Yielding      5507\n",
      "Yielding To Soft      5004\n",
      "Very Soft             4540\n",
      "Standard To Slow      3573\n",
      "Soft To Heavy         3562\n",
      "Slow                   995\n",
      "Sloppy                 638\n",
      "Hard                   495\n",
      "Standard To Fast       373\n",
      "Muddy                  305\n",
      "Holding                 65\n",
      "NaN                     48\n",
      "Frozen                  37\n",
      "Abandoned                9\n",
      "Name: condition, dtype: int64\n",
      "rclass:  [nan 'Class 1' 'Class 6' 'Class 4' 'Class 5' 'Class 2' 'Class 3' 'Class 7'] Count:  NaN        152992\n",
      "Class 4     76194\n",
      "Class 5     60188\n",
      "Class 6     47963\n",
      "Class 3     32770\n",
      "Class 2     12932\n",
      "Class 1     11649\n",
      "Class 7      1884\n",
      "Name: rclass, dtype: int64\n",
      "Band:  [nan '0-125' '0-115' '0-135' '0-70' '0-90' '0-80' '0-145' '0-60' '0-105'\n",
      " '0-140' '0-100' '0-130' '0-110' '0-85' '0-75' '0-95' '0-120' '0-150'\n",
      " '0-65' '0-155' '0-123' '0-109' '0-116' '0-102' '0-112' '0-137' '95-116'\n",
      " '0-144' '88-116' '0-55' '0-50' '75-95' '0-99' '102-123' '0-114' '0-113'\n",
      " '95-109' '0-132' '60-90' '67-95' '88-109' '0-127' '0-133' '0-106' '50-85'\n",
      " '55-90' '50-95' '60-105' '50-90' '0-92' '0-72' '0-126' '0-160' '0-88'\n",
      " '0-82' '60-95' '60-92' '0-77' '50-87' '60-99' '45-70' '67-102' '0-78'\n",
      " '60-93' '65-95' '0-68' '74-102' '60-100' '70-102' '70-109' '74-109' '--'\n",
      " '60-81' '60-88' '67-109' '81-123' '74-116' '50-80' '40-70' '65-97' '0-86'\n",
      " '0-84' '0-81' '0-73' '81-116' '67-88' '88-130' '55-75' '0-74' '0-71'\n",
      " '0-45' '74-95' '40-65' '40-75' '81-109' '50-70' '45-75' '50-75' '70-95'\n",
      " '70-88' '74-88' '81-102' '0-76' '0-69' '0-66' '0-79' '0-96' '0-98' '0-94'\n",
      " '0-83' '0-67' '0-93' '0-40' '0-35' '0-63' '70-116' '90-105' '0-52'\n",
      " '85-100' '95-110' '90-110' '95-112' '33-60' '37-70' '70-100' '46-55'\n",
      " '0-101' '40-60' '37-60' '81-95' '0-104' '0-91' '60-80' '33-70' '81-130'\n",
      " '0-89' '0-87' '0-97' '0-64' '0-62' '0-107' '0-103' '85-105' '100-112'\n",
      " '36-60' '74-123' '45-90' '45-80' '88-140' '0-58' '45-60' '55-85' '0-57'\n",
      " '0-53' '0-54' '95-115' '95-118' '42-60' '47-70' '42-70' '42-65' '47-65'\n",
      " '47-75' '47-80' '47-60' '65-85' '55-70' '42-75' '52-90' '52-80' '60-85'\n",
      " '55-80' '52-85' '88-123' '60-75' '52-70' '52-75' '77-90' '100-118'\n",
      " '100-110' '100-113' '100-111' '100-115' '95-105' '100-129' '100-116'\n",
      " '45-65' '80-95' '95-119' '100-119' '80-102' '0-56' '80-109' '95-120'\n",
      " '80-116' '75-100' '65-90' '80-100' '80-105' '95-122' '70-85' '100-122'\n",
      " '65-80' '50-65' '70-90' '80-98' '90-102' '95-113' '85-98' '75-90'\n",
      " '95-123' '95-130' '85-110' '80-123' '95-108' '85-99' '95-104' '0-175'\n",
      " '76-90' '66-80' '82-100' '72-86' '20-50' '80-93' '85-97' '70-82' '80-94'\n",
      " '95-107' '100-109' '80-91' '51-70' '66-85' '56-70' '61-75' '86-105'\n",
      " '59-73' '68-84' '69-83' '69-89' '55-69' '60-74' '74-94' '84-104' '60-79'\n",
      " '80-99' '84-99' '74-89' '79-99' '58-74' '69-84' '78-94' '64-79' '64-84'\n",
      " '54-69' '95-111' '100-123' '70-87' '95-121' '70-84' '75-89' '63-76'\n",
      " '70-79' '75-88' '63-79' '68-98' '66-84' '71-84' '76-88' '76-92' '84-98'\n",
      " '65-79' '95-114' '78-93' '98-108' '65-75' '66-89' '95-117' '80-92'\n",
      " '86-98' '81-93' '85-95' '77-94' '65-77' '76-84' '76-99' '71-98' '71-92'\n",
      " '84-103' '73-89' '0-59' '76-89' '85-102' '86-94' '72-82' '52-74' '72-84'\n",
      " '70-96' '85-104' '71-82' '100-108' '100-114' '85-94' '65-88' '71-83'\n",
      " '71-95' '78-92' '78-89' '64-96' '70-98' '68-92' '90-108' '60-87' '65-93'\n",
      " '85-112' '65-94' '85-107' '80-130' '59-75' '90-111' '70-91' '95-106'\n",
      " '92-108' '85-93' '90-107' '86-99' '70-80' '96-109' '85-103' '70-93'\n",
      " '60-89' '75-94' '64-90' '78-99' '65-91' '80-108' '65-99' '75-103'\n",
      " '75-101' '75-111' '75-105' '75-84' '65-78' '70-83' '60-84' '65-82'\n",
      " '40-78' '67-78' '90-109' '75-93' '55-65' '76-94' '90-118' '75-85' '75-92'\n",
      " '75-87' '64-80' '77-89' '65-84' '55-81' '0-61' '60-83' '40-77' '65-89'\n",
      " '85-101'] Count:  NaN       231309\n",
      "0-70       18656\n",
      "0-75       12922\n",
      "0-85       11816\n",
      "0-100      10602\n",
      "           ...  \n",
      "86-105         1\n",
      "71-82          1\n",
      "88-140         1\n",
      "75-84          1\n",
      "85-103         1\n",
      "Name: band, Length: 365, dtype: int64\n"
     ]
    }
   ],
   "source": [
    "#Print values and distributions of text columns \n",
    "print(f\"Going: \", df2[\"condition\"].unique(), \"Count: \", df2[\"condition\"].value_counts(dropna=False))\n",
    "print(f\"rclass: \", df2[\"rclass\"].unique(), \"Count: \", df2[\"rclass\"].value_counts(dropna=False))\n",
    "print(f\"Band: \", df2[\"band\"].unique(), \"Count: \", df2[\"band\"].value_counts(dropna=False))"
   ]
  },
  {
   "cell_type": "code",
   "execution_count": 8,
   "id": "3f04e2f3",
   "metadata": {},
   "outputs": [
    {
     "name": "stdout",
     "output_type": "stream",
     "text": [
      "{'Good': ' 3', 'Good To Firm': '2', 'Standard': '3', 'Soft': '5', 'Good To Soft': '4', 'Heavy': '8', 'Firm': '1', 'Fast': '1', 'Yielding': '3', 'Good To Yielding': '4', 'Yielding To Soft': '5', 'Very Soft': '7', 'Standard To Slow': '5', 'Soft To Heavy': '6', 'Slow': '6', 'Sloppy': '8', 'Hard': '1', 'Standard To Fast': '2', 'Muddy': '8', 'Holding': '5', 'Frozen': '9', 'Abandoned': '10'}\n"
     ]
    }
   ],
   "source": [
    "#Convert races.condition column to numeric using a map file giving decreasing value the firmer the ground\n",
    "import csv\n",
    "# Read the CSV file into a list of dictionaries\n",
    "going_map = {}\n",
    "\n",
    "with open('.\\horses\\going.csv', mode='r') as file:\n",
    "    reader = csv.reader(file)\n",
    "    next(reader) #skip header\n",
    "    for row in reader:\n",
    "        key, value = row\n",
    "        going_map[key] = value\n",
    "\n",
    "print(going_map)\n",
    "\n",
    "df2['ncond'] = df2['condition'].map(going_map)\n"
   ]
  },
  {
   "cell_type": "code",
   "execution_count": 9,
   "id": "7d585c4d",
   "metadata": {},
   "outputs": [
    {
     "name": "stdout",
     "output_type": "stream",
     "text": [
      "{'Class 1': ' 1', 'Class 2': ' 2', 'Class 3': ' 3', 'Class 4': ' 4', 'Class 5': ' 5', 'Class 6': ' 6', 'Class 7': ' 7'}\n"
     ]
    }
   ],
   "source": [
    "#convert races.class to numeric\n",
    "# Read the CSV file into a list of dictionaries\n",
    "class_map = {}\n",
    "\n",
    "with open('.\\horses\\class.csv', mode='r') as file:\n",
    "    reader = csv.reader(file)\n",
    "    next(reader) #skip header\n",
    "    for row in reader:\n",
    "        key, value = row\n",
    "        class_map[key] = value\n",
    "\n",
    "print(class_map)\n",
    "\n",
    "df2['rclass'] = df2['rclass'].map(class_map)"
   ]
  },
  {
   "cell_type": "code",
   "execution_count": 10,
   "id": "965fac8b",
   "metadata": {
    "scrolled": true
   },
   "outputs": [],
   "source": [
    "#Drop columns\n",
    "df2 = df2.drop(['time', 'title', 'band', 'ages', 'distance', 'condition', 'hurdles', 'prizes', \n",
    "         'winningTime', 'prize', 'countryCode', 'class', 'currency'], axis=1)\n"
   ]
  },
  {
   "cell_type": "code",
   "execution_count": 11,
   "id": "9542b26b",
   "metadata": {
    "scrolled": true
   },
   "outputs": [
    {
     "name": "stdout",
     "output_type": "stream",
     "text": [
      "Merged dataframe shape:  (4107315, 20)\n"
     ]
    },
    {
     "data": {
      "text/html": [
       "<div>\n",
       "<style scoped>\n",
       "    .dataframe tbody tr th:only-of-type {\n",
       "        vertical-align: middle;\n",
       "    }\n",
       "\n",
       "    .dataframe tbody tr th {\n",
       "        vertical-align: top;\n",
       "    }\n",
       "\n",
       "    .dataframe thead th {\n",
       "        text-align: right;\n",
       "    }\n",
       "</style>\n",
       "<table border=\"1\" class=\"dataframe\">\n",
       "  <thead>\n",
       "    <tr style=\"text-align: right;\">\n",
       "      <th></th>\n",
       "      <th>rid</th>\n",
       "      <th>horseName</th>\n",
       "      <th>age</th>\n",
       "      <th>saddle</th>\n",
       "      <th>decimalPrice</th>\n",
       "      <th>isFav</th>\n",
       "      <th>trainerName</th>\n",
       "      <th>jockeyName</th>\n",
       "      <th>position</th>\n",
       "      <th>RPR</th>\n",
       "      <th>TR</th>\n",
       "      <th>OR</th>\n",
       "      <th>weight</th>\n",
       "      <th>res_win</th>\n",
       "      <th>res_place</th>\n",
       "      <th>course</th>\n",
       "      <th>date</th>\n",
       "      <th>rclass</th>\n",
       "      <th>metric</th>\n",
       "      <th>ncond</th>\n",
       "    </tr>\n",
       "  </thead>\n",
       "  <tbody>\n",
       "    <tr>\n",
       "      <th>0</th>\n",
       "      <td>271018</td>\n",
       "      <td>Combermere</td>\n",
       "      <td>6.0</td>\n",
       "      <td>0.0</td>\n",
       "      <td>0.222222</td>\n",
       "      <td>0</td>\n",
       "      <td>R G Frost</td>\n",
       "      <td>J Frost</td>\n",
       "      <td>1</td>\n",
       "      <td>111.0</td>\n",
       "      <td>94.0</td>\n",
       "      <td>NaN</td>\n",
       "      <td>69</td>\n",
       "      <td>1.0</td>\n",
       "      <td>1.0</td>\n",
       "      <td>Exeter</td>\n",
       "      <td>90/01/01</td>\n",
       "      <td>NaN</td>\n",
       "      <td>5028.0</td>\n",
       "      <td>5</td>\n",
       "    </tr>\n",
       "    <tr>\n",
       "      <th>1</th>\n",
       "      <td>271018</td>\n",
       "      <td>Royal Battery</td>\n",
       "      <td>6.0</td>\n",
       "      <td>0.0</td>\n",
       "      <td>0.090909</td>\n",
       "      <td>0</td>\n",
       "      <td>D H Barons</td>\n",
       "      <td>S Earle</td>\n",
       "      <td>2</td>\n",
       "      <td>101.0</td>\n",
       "      <td>88.0</td>\n",
       "      <td>NaN</td>\n",
       "      <td>69</td>\n",
       "      <td>0.0</td>\n",
       "      <td>1.0</td>\n",
       "      <td>Exeter</td>\n",
       "      <td>90/01/01</td>\n",
       "      <td>NaN</td>\n",
       "      <td>5028.0</td>\n",
       "      <td>5</td>\n",
       "    </tr>\n",
       "    <tr>\n",
       "      <th>2</th>\n",
       "      <td>271018</td>\n",
       "      <td>Just So</td>\n",
       "      <td>7.0</td>\n",
       "      <td>0.0</td>\n",
       "      <td>0.029412</td>\n",
       "      <td>0</td>\n",
       "      <td>J D Roberts</td>\n",
       "      <td>S Burrough</td>\n",
       "      <td>3</td>\n",
       "      <td>86.0</td>\n",
       "      <td>71.0</td>\n",
       "      <td>NaN</td>\n",
       "      <td>66</td>\n",
       "      <td>0.0</td>\n",
       "      <td>1.0</td>\n",
       "      <td>Exeter</td>\n",
       "      <td>90/01/01</td>\n",
       "      <td>NaN</td>\n",
       "      <td>5028.0</td>\n",
       "      <td>5</td>\n",
       "    </tr>\n",
       "    <tr>\n",
       "      <th>3</th>\n",
       "      <td>271018</td>\n",
       "      <td>Mandraki Shuffle</td>\n",
       "      <td>8.0</td>\n",
       "      <td>0.0</td>\n",
       "      <td>0.090909</td>\n",
       "      <td>0</td>\n",
       "      <td>Oliver Sherwood</td>\n",
       "      <td>M Richards</td>\n",
       "      <td>4</td>\n",
       "      <td>66.0</td>\n",
       "      <td>65.0</td>\n",
       "      <td>NaN</td>\n",
       "      <td>69</td>\n",
       "      <td>0.0</td>\n",
       "      <td>0.0</td>\n",
       "      <td>Exeter</td>\n",
       "      <td>90/01/01</td>\n",
       "      <td>NaN</td>\n",
       "      <td>5028.0</td>\n",
       "      <td>5</td>\n",
       "    </tr>\n",
       "    <tr>\n",
       "      <th>4</th>\n",
       "      <td>271018</td>\n",
       "      <td>Turnberry Dawn</td>\n",
       "      <td>8.0</td>\n",
       "      <td>0.0</td>\n",
       "      <td>0.047619</td>\n",
       "      <td>0</td>\n",
       "      <td>T B Hallett</td>\n",
       "      <td>P Richards</td>\n",
       "      <td>5</td>\n",
       "      <td>NaN</td>\n",
       "      <td>45.0</td>\n",
       "      <td>NaN</td>\n",
       "      <td>69</td>\n",
       "      <td>0.0</td>\n",
       "      <td>0.0</td>\n",
       "      <td>Exeter</td>\n",
       "      <td>90/01/01</td>\n",
       "      <td>NaN</td>\n",
       "      <td>5028.0</td>\n",
       "      <td>5</td>\n",
       "    </tr>\n",
       "    <tr>\n",
       "      <th>...</th>\n",
       "      <td>...</td>\n",
       "      <td>...</td>\n",
       "      <td>...</td>\n",
       "      <td>...</td>\n",
       "      <td>...</td>\n",
       "      <td>...</td>\n",
       "      <td>...</td>\n",
       "      <td>...</td>\n",
       "      <td>...</td>\n",
       "      <td>...</td>\n",
       "      <td>...</td>\n",
       "      <td>...</td>\n",
       "      <td>...</td>\n",
       "      <td>...</td>\n",
       "      <td>...</td>\n",
       "      <td>...</td>\n",
       "      <td>...</td>\n",
       "      <td>...</td>\n",
       "      <td>...</td>\n",
       "      <td>...</td>\n",
       "    </tr>\n",
       "    <tr>\n",
       "      <th>95</th>\n",
       "      <td>326330</td>\n",
       "      <td>Birmingham's Pride</td>\n",
       "      <td>4.0</td>\n",
       "      <td>0.0</td>\n",
       "      <td>0.038462</td>\n",
       "      <td>0</td>\n",
       "      <td>Reg Hollinshead</td>\n",
       "      <td>C Hodgson</td>\n",
       "      <td>3</td>\n",
       "      <td>44.0</td>\n",
       "      <td>NaN</td>\n",
       "      <td>NaN</td>\n",
       "      <td>52</td>\n",
       "      <td>0.0</td>\n",
       "      <td>1.0</td>\n",
       "      <td>Southwell (AW)</td>\n",
       "      <td>90/01/01</td>\n",
       "      <td>NaN</td>\n",
       "      <td>1609.0</td>\n",
       "      <td>3</td>\n",
       "    </tr>\n",
       "    <tr>\n",
       "      <th>96</th>\n",
       "      <td>326330</td>\n",
       "      <td>Razeen</td>\n",
       "      <td>5.0</td>\n",
       "      <td>0.0</td>\n",
       "      <td>0.133333</td>\n",
       "      <td>0</td>\n",
       "      <td>J G Fitzgerald</td>\n",
       "      <td>Kieren Fallon</td>\n",
       "      <td>4</td>\n",
       "      <td>NaN</td>\n",
       "      <td>NaN</td>\n",
       "      <td>NaN</td>\n",
       "      <td>58</td>\n",
       "      <td>0.0</td>\n",
       "      <td>0.0</td>\n",
       "      <td>Southwell (AW)</td>\n",
       "      <td>90/01/01</td>\n",
       "      <td>NaN</td>\n",
       "      <td>1609.0</td>\n",
       "      <td>3</td>\n",
       "    </tr>\n",
       "    <tr>\n",
       "      <th>97</th>\n",
       "      <td>326330</td>\n",
       "      <td>Trace Of Irony</td>\n",
       "      <td>4.0</td>\n",
       "      <td>0.0</td>\n",
       "      <td>0.083333</td>\n",
       "      <td>0</td>\n",
       "      <td>Chris Wall</td>\n",
       "      <td>Billy Newnes</td>\n",
       "      <td>5</td>\n",
       "      <td>NaN</td>\n",
       "      <td>NaN</td>\n",
       "      <td>NaN</td>\n",
       "      <td>55</td>\n",
       "      <td>0.0</td>\n",
       "      <td>0.0</td>\n",
       "      <td>Southwell (AW)</td>\n",
       "      <td>90/01/01</td>\n",
       "      <td>NaN</td>\n",
       "      <td>1609.0</td>\n",
       "      <td>3</td>\n",
       "    </tr>\n",
       "    <tr>\n",
       "      <th>98</th>\n",
       "      <td>326330</td>\n",
       "      <td>Gargoor</td>\n",
       "      <td>4.0</td>\n",
       "      <td>0.0</td>\n",
       "      <td>0.058824</td>\n",
       "      <td>0</td>\n",
       "      <td>N A Callaghan</td>\n",
       "      <td>Michael Tebbutt</td>\n",
       "      <td>6</td>\n",
       "      <td>NaN</td>\n",
       "      <td>NaN</td>\n",
       "      <td>NaN</td>\n",
       "      <td>54</td>\n",
       "      <td>0.0</td>\n",
       "      <td>0.0</td>\n",
       "      <td>Southwell (AW)</td>\n",
       "      <td>90/01/01</td>\n",
       "      <td>NaN</td>\n",
       "      <td>1609.0</td>\n",
       "      <td>3</td>\n",
       "    </tr>\n",
       "    <tr>\n",
       "      <th>99</th>\n",
       "      <td>326330</td>\n",
       "      <td>Fishki</td>\n",
       "      <td>4.0</td>\n",
       "      <td>0.0</td>\n",
       "      <td>0.363636</td>\n",
       "      <td>1</td>\n",
       "      <td>B Hanbury</td>\n",
       "      <td>B Raymond</td>\n",
       "      <td>7</td>\n",
       "      <td>NaN</td>\n",
       "      <td>NaN</td>\n",
       "      <td>NaN</td>\n",
       "      <td>55</td>\n",
       "      <td>0.0</td>\n",
       "      <td>0.0</td>\n",
       "      <td>Southwell (AW)</td>\n",
       "      <td>90/01/01</td>\n",
       "      <td>NaN</td>\n",
       "      <td>1609.0</td>\n",
       "      <td>3</td>\n",
       "    </tr>\n",
       "  </tbody>\n",
       "</table>\n",
       "<p>100 rows × 20 columns</p>\n",
       "</div>"
      ],
      "text/plain": [
       "       rid           horseName  age  saddle  decimalPrice  isFav  \\\n",
       "0   271018          Combermere  6.0     0.0      0.222222      0   \n",
       "1   271018       Royal Battery  6.0     0.0      0.090909      0   \n",
       "2   271018             Just So  7.0     0.0      0.029412      0   \n",
       "3   271018    Mandraki Shuffle  8.0     0.0      0.090909      0   \n",
       "4   271018      Turnberry Dawn  8.0     0.0      0.047619      0   \n",
       "..     ...                 ...  ...     ...           ...    ...   \n",
       "95  326330  Birmingham's Pride  4.0     0.0      0.038462      0   \n",
       "96  326330              Razeen  5.0     0.0      0.133333      0   \n",
       "97  326330      Trace Of Irony  4.0     0.0      0.083333      0   \n",
       "98  326330             Gargoor  4.0     0.0      0.058824      0   \n",
       "99  326330              Fishki  4.0     0.0      0.363636      1   \n",
       "\n",
       "        trainerName       jockeyName  position    RPR    TR  OR  weight  \\\n",
       "0         R G Frost          J Frost         1  111.0  94.0 NaN      69   \n",
       "1        D H Barons          S Earle         2  101.0  88.0 NaN      69   \n",
       "2       J D Roberts       S Burrough         3   86.0  71.0 NaN      66   \n",
       "3   Oliver Sherwood       M Richards         4   66.0  65.0 NaN      69   \n",
       "4       T B Hallett       P Richards         5    NaN  45.0 NaN      69   \n",
       "..              ...              ...       ...    ...   ...  ..     ...   \n",
       "95  Reg Hollinshead        C Hodgson         3   44.0   NaN NaN      52   \n",
       "96   J G Fitzgerald    Kieren Fallon         4    NaN   NaN NaN      58   \n",
       "97       Chris Wall     Billy Newnes         5    NaN   NaN NaN      55   \n",
       "98    N A Callaghan  Michael Tebbutt         6    NaN   NaN NaN      54   \n",
       "99        B Hanbury        B Raymond         7    NaN   NaN NaN      55   \n",
       "\n",
       "    res_win  res_place          course      date rclass  metric ncond  \n",
       "0       1.0        1.0          Exeter  90/01/01    NaN  5028.0     5  \n",
       "1       0.0        1.0          Exeter  90/01/01    NaN  5028.0     5  \n",
       "2       0.0        1.0          Exeter  90/01/01    NaN  5028.0     5  \n",
       "3       0.0        0.0          Exeter  90/01/01    NaN  5028.0     5  \n",
       "4       0.0        0.0          Exeter  90/01/01    NaN  5028.0     5  \n",
       "..      ...        ...             ...       ...    ...     ...   ...  \n",
       "95      0.0        1.0  Southwell (AW)  90/01/01    NaN  1609.0     3  \n",
       "96      0.0        0.0  Southwell (AW)  90/01/01    NaN  1609.0     3  \n",
       "97      0.0        0.0  Southwell (AW)  90/01/01    NaN  1609.0     3  \n",
       "98      0.0        0.0  Southwell (AW)  90/01/01    NaN  1609.0     3  \n",
       "99      0.0        0.0  Southwell (AW)  90/01/01    NaN  1609.0     3  \n",
       "\n",
       "[100 rows x 20 columns]"
      ]
     },
     "execution_count": 11,
     "metadata": {},
     "output_type": "execute_result"
    }
   ],
   "source": [
    "#Merge dataframes on rid\n",
    "df = df1.merge(df2, on='rid', how='inner')\n",
    "print(\"Merged dataframe shape: \", df.shape)\n",
    "df.head(100)\n"
   ]
  },
  {
   "cell_type": "code",
   "execution_count": 12,
   "id": "950ead09",
   "metadata": {},
   "outputs": [
    {
     "name": "stdout",
     "output_type": "stream",
     "text": [
      "            ID     Original_Text\n",
      "0            0        Combermere\n",
      "1            1     Royal Battery\n",
      "2            2           Just So\n",
      "3            3  Mandraki Shuffle\n",
      "4            4    Turnberry Dawn\n",
      "...        ...               ...\n",
      "371864  371864          Dynamore\n",
      "371865  371865    Flying Sardine\n",
      "371866  371866     Aimee's Jewel\n",
      "371867  371867     Times Ticking\n",
      "371868  371868        Awesome Al\n",
      "\n",
      "[371869 rows x 2 columns]\n",
      "          ID                       Original_Text\n",
      "0          0                           R G Frost\n",
      "1          1                          D H Barons\n",
      "2          2                         J D Roberts\n",
      "3          3                     Oliver Sherwood\n",
      "4          4                         T B Hallett\n",
      "...      ...                                 ...\n",
      "18443  18443                         Sarah Bowen\n",
      "18444  18444                       A Al Mehairbi\n",
      "18445  18445  Steven O'Dea &amp; Matthew Hoysted\n",
      "18446  18446                    Hitoshi Kotegawa\n",
      "18447  18447                        Buddy Lammas\n",
      "\n",
      "[18448 rows x 2 columns]\n",
      "          ID   Original_Text\n",
      "0          0         J Frost\n",
      "1          1         S Earle\n",
      "2          2      S Burrough\n",
      "3          3      M Richards\n",
      "4          4      P Richards\n",
      "...      ...             ...\n",
      "17716  17716   Miss R Murphy\n",
      "17717  17717    Lauren Maher\n",
      "17718  17718  Mr Kane Yeoman\n",
      "17719  17719    Sam O'Malley\n",
      "17720  17720   Hazel Schofer\n",
      "\n",
      "[17721 rows x 2 columns]\n",
      "      ID      Original_Text\n",
      "0      0             Exeter\n",
      "1      1      Tramore (IRE)\n",
      "2      2          Catterick\n",
      "3      3         Cheltenham\n",
      "4      4            Windsor\n",
      "..   ...                ...\n",
      "435  435  Fonner Park (USA)\n",
      "436  436    Balaklava (AUS)\n",
      "437  437        Vittel (FR)\n",
      "438  438        Evreux (FR)\n",
      "439  439       Ankara (TUR)\n",
      "\n",
      "[440 rows x 2 columns]\n"
     ]
    }
   ],
   "source": [
    "#Factorise text columns\n",
    "df['horseName'], unique_text = pd.factorize(df['horseName'])\n",
    "\n",
    "# Create a DataFrame for the mapping\n",
    "horsename_df = pd.DataFrame({\n",
    "    'ID': range(len(unique_text)),\n",
    "    'Original_Text': unique_text\n",
    "})\n",
    "\n",
    "df['trainerName'], unique_text = pd.factorize(df['trainerName'])\n",
    "\n",
    "# Create a DataFrame for the mapping\n",
    "trainername_df = pd.DataFrame({\n",
    "    'ID': range(len(unique_text)),\n",
    "    'Original_Text': unique_text\n",
    "})\n",
    "\n",
    "df['jockeyName'], unique_text = pd.factorize(df['jockeyName'])\n",
    "\n",
    "# Create a DataFrame for the mapping\n",
    "jockeyname_df = pd.DataFrame({\n",
    "    'ID': range(len(unique_text)),\n",
    "    'Original_Text': unique_text\n",
    "})\n",
    "\n",
    "df['course'], unique_text = pd.factorize(df['course'])\n",
    "\n",
    "# Create a DataFrame for the mapping\n",
    "course_df = pd.DataFrame({\n",
    "    'ID': range(len(unique_text)),\n",
    "    'Original_Text': unique_text\n",
    "})\n",
    "\n",
    "print(horsename_df)\n",
    "print(trainername_df)\n",
    "print(jockeyname_df)\n",
    "print(course_df)\n"
   ]
  },
  {
   "cell_type": "code",
   "execution_count": 13,
   "id": "94700efc",
   "metadata": {},
   "outputs": [],
   "source": [
    "#Export dataset\n",
    "df.head()\n",
    "df.to_csv('testfile.csv', index=False)"
   ]
  },
  {
   "cell_type": "code",
   "execution_count": 14,
   "id": "b776dc43",
   "metadata": {
    "scrolled": true
   },
   "outputs": [
    {
     "data": {
      "image/png": "[encoded data removed]",
      "text/plain": [
       "<Figure size 640x480 with 1 Axes>"
      ]
     },
     "metadata": {},
     "output_type": "display_data"
    }
   ],
   "source": [
    "# Distribution of res_win in dataset\n",
    "counts = df['res_win'].value_counts()\n",
    "\n",
    "# Plotting\n",
    "counts.plot(kind='bar')\n",
    "plt.title('Distribution of res_win')\n",
    "plt.xlabel('Value')\n",
    "plt.ylabel('Count')\n",
    "plt.show()"
   ]
  },
  {
   "cell_type": "code",
   "execution_count": 15,
   "id": "5db43438",
   "metadata": {},
   "outputs": [],
   "source": [
    "# Correlation matrix plot function\n",
    "def plotCorrelationMatrix(df, graphWidth):\n",
    "    filename = df.dataframeName\n",
    "#    df = df.dropna('columns') # drop columns with NaN\n",
    "    df = df[[col for col in df if df[col].nunique() > 1]] # keep columns where there are more than 1 unique values\n",
    "    if df.shape[1] < 2:\n",
    "        print(f'No correlation plots shown: The number of non-NaN or constant columns ({df.shape[1]}) is less than 2')\n",
    "        return\n",
    "    corr = df.corr()\n",
    "    plt.figure(num=None, figsize=(graphWidth, graphWidth), dpi=80, facecolor='w', edgecolor='k')\n",
    "    corrMat = plt.matshow(corr, fignum = 1)\n",
    "    plt.xticks(range(len(corr.columns)), corr.columns, rotation=90)\n",
    "    plt.yticks(range(len(corr.columns)), corr.columns)\n",
    "    plt.gca().xaxis.tick_bottom()\n",
    "    plt.colorbar(corrMat)\n",
    "    plt.title(f'Correlation Matrix for {filename}', fontsize=15)\n",
    "    plt.show()\n"
   ]
  },
  {
   "cell_type": "code",
   "execution_count": 16,
   "id": "a6066880",
   "metadata": {},
   "outputs": [
    {
     "data": {
      "image/png": "[encoded data removed]",
      "text/plain": [
       "<Figure size 960x960 with 2 Axes>"
      ]
     },
     "metadata": {},
     "output_type": "display_data"
    }
   ],
   "source": [
    "df.dataframeName = 'racehorse'\n",
    "plotCorrelationMatrix(df, 12)"
   ]
  },
  {
   "cell_type": "code",
   "execution_count": 17,
   "id": "dc60bbae",
   "metadata": {
    "scrolled": true
   },
   "outputs": [
    {
     "data": {
      "image/png": "[encoded data removed]",
      "text/plain": [
       "<Figure size 640x480 with 1 Axes>"
      ]
     },
     "metadata": {},
     "output_type": "display_data"
    },
    {
     "name": "stdout",
     "output_type": "stream",
     "text": [
      "Probability of favourite winning:  1     139143\n",
      "2      83245\n",
      "3      55143\n",
      "4      39104\n",
      "5      27776\n",
      "6      19724\n",
      "40     16655\n",
      "7      14225\n",
      "8      10169\n",
      "9       7191\n",
      "10      5178\n",
      "11      3599\n",
      "12      2598\n",
      "13      1756\n",
      "14      1154\n",
      "15       792\n",
      "16       515\n",
      "17       314\n",
      "18       206\n",
      "19       134\n",
      "20       100\n",
      "22        56\n",
      "21        46\n",
      "23        42\n",
      "24        18\n",
      "0         16\n",
      "28        12\n",
      "26        11\n",
      "25         8\n",
      "27         6\n",
      "30         2\n",
      "29         1\n",
      "31         1\n",
      "33         1\n",
      "Name: position, dtype: int64\n"
     ]
    }
   ],
   "source": [
    "#Plot Favourite vs Finishing Place\n",
    "filtered_df = df[df['isFav']==1]\n",
    "filtered_df['position'].value_counts().sort_index().plot(kind='bar')\n",
    "plt.xlabel('position')\n",
    "plt.ylabel('frequency')\n",
    "plt.title('Distribution of isFav against position')\n",
    "plt.show()\n",
    "print(\"Probability of favourite winning: \", filtered_df['position'].value_counts())"
   ]
  },
  {
   "cell_type": "code",
   "execution_count": 18,
   "id": "8285c4ea",
   "metadata": {},
   "outputs": [
    {
     "name": "stdout",
     "output_type": "stream",
     "text": [
      "Probability of position == 1 where isFav == 1: 0.32\n"
     ]
    }
   ],
   "source": [
    "#probability of Favourite winning\n",
    "counts = df[df['isFav'] == 1]['position'].value_counts(normalize=True)\n",
    "\n",
    "# Fetch the probability of position being 1 where isFav is 1\n",
    "probability = counts.get(1, 0)\n",
    "\n",
    "print(f\"Probability of position == 1 where isFav == 1: {probability:.2f}\")"
   ]
  },
  {
   "cell_type": "code",
   "execution_count": 19,
   "id": "b98f3226",
   "metadata": {},
   "outputs": [
    {
     "name": "stdout",
     "output_type": "stream",
     "text": [
      "Probability that the max RPR has res_win = 1: 0.71\n"
     ]
    },
    {
     "data": {
      "image/png": "[encoded data removed]",
      "text/plain": [
       "<Figure size 640x480 with 1 Axes>"
      ]
     },
     "metadata": {},
     "output_type": "display_data"
    }
   ],
   "source": [
    "#Plot max RPR for each race winning\n",
    "# Sort the dataframe and pick the row with maximum RPR for each 'rid'\n",
    "sorted_df = df.dropna(subset=['RPR']).sort_values(['rid', 'RPR'], ascending=[True, False])\n",
    "top_rpr_df = sorted_df.groupby('rid').first().reset_index()\n",
    "\n",
    "# Calculate the probability\n",
    "total_max_rpr_records = top_rpr_df.shape[0]\n",
    "winning_max_rpr_records = top_rpr_df[top_rpr_df['res_win'] == 1].shape[0]\n",
    "probability = winning_max_rpr_records / total_max_rpr_records\n",
    "\n",
    "print(f\"Probability that the max RPR has res_win = 1: {probability:.2f}\")\n",
    "\n",
    "# Plot bar chart\n",
    "position_counts = top_rpr_df['position'].value_counts().sort_index()\n",
    "position_counts.plot(kind='bar', color='skyblue')\n",
    "plt.xlabel('Position')\n",
    "plt.ylabel('Frequency')\n",
    "plt.title('Frequency of each value of position against max RPR by rid')\n",
    "plt.show()"
   ]
  },
  {
   "cell_type": "code",
   "execution_count": 20,
   "id": "31b7fcfe",
   "metadata": {},
   "outputs": [
    {
     "name": "stdout",
     "output_type": "stream",
     "text": [
      "Empty DataFrame\n",
      "Columns: [horseName, age, saddle, decimalPrice, isFav, trainerName, jockeyName, RPR, TR, weight, res_win, course, metric, ncond]\n",
      "Index: []\n",
      "(2291748, 14)\n"
     ]
    }
   ],
   "source": [
    "#final data clearup\n",
    "df = df.drop(['rid', 'position', 'res_place', 'OR', 'rclass', 'date'], axis=1)\n",
    "df = df.dropna()\n",
    "#Drop rows with a NaN\n",
    "rows_with_nan = df[df.isna().any(axis=1)]\n",
    "#check no NaN rows\n",
    "print(rows_with_nan)\n",
    "#Convert decimal to integer\n",
    "df['age'] = df['age'].astype(int)\n",
    "df['saddle'] = df['saddle'].astype(int)\n",
    "df['res_win'] = df['res_win'].astype(int)\n",
    "df['ncond'] = df['ncond'].astype(int)\n",
    "print(df.shape)"
   ]
  },
  {
   "cell_type": "code",
   "execution_count": 21,
   "id": "9cd4a46e",
   "metadata": {},
   "outputs": [],
   "source": [
    "#Initialise vanilla XGBoostClassifier model\n",
    "import xgboost as xgb\n",
    "clf = xgb.XGBClassifier()\n"
   ]
  },
  {
   "cell_type": "code",
   "execution_count": 22,
   "id": "0679efc0",
   "metadata": {},
   "outputs": [],
   "source": [
    "#Create train/test sets\n",
    "from sklearn.model_selection import train_test_split\n",
    "\n",
    "X = df.drop(['res_win'], axis=1)\n",
    "y = df['res_win']\n",
    "\n",
    "X_train, X_test, y_train, y_test = train_test_split(X, y, test_size=0.2, random_state=42)\n"
   ]
  },
  {
   "cell_type": "code",
   "execution_count": 86,
   "id": "587428cd",
   "metadata": {},
   "outputs": [
    {
     "name": "stdout",
     "output_type": "stream",
     "text": [
      "Model trained\n"
     ]
    }
   ],
   "source": [
    "#Train the model\n",
    "clf.fit(X_train, y_train)\n",
    "y_pred = clf.predict(X_test)\n",
    "print(\"Model trained\")"
   ]
  },
  {
   "cell_type": "code",
   "execution_count": 88,
   "id": "432bc0f5",
   "metadata": {
    "scrolled": true
   },
   "outputs": [
    {
     "name": "stdout",
     "output_type": "stream",
     "text": [
      "Accuracy: 88.40%\n",
      "F1 score: 31.50%\n",
      "ROC AUC: 86.33%\n",
      "Confusion matrix:  [[392933   7218]\n",
      " [ 45969  12230]]\n",
      "Precision: 62.89%\n",
      "Recall: 21.01%\n",
      "F1 Score Manual Calc: 31.50%\n"
     ]
    }
   ],
   "source": [
    "#Report model metrics\n",
    "from sklearn.metrics import accuracy_score\n",
    "from sklearn.metrics import f1_score\n",
    "from sklearn.metrics import roc_auc_score\n",
    "from sklearn.metrics import confusion_matrix\n",
    "accuracy = accuracy_score(y_test, y_pred)\n",
    "print(f\"Accuracy: {accuracy * 100:.2f}%\")\n",
    "f1score = f1_score(y_test, y_pred)\n",
    "print(f\"F1 score: {f1score * 100:.2f}%\")\n",
    "y_pred_proba = clf.predict_proba(X_test)[:,1]\n",
    "rocscore = roc_auc_score(y_test, y_pred_proba)\n",
    "print(f\"ROC AUC: {rocscore * 100:.2f}%\")\n",
    "confusionmatrix = confusion_matrix(y_test, y_pred)\n",
    "print(\"Confusion matrix: \", confusionmatrix)\n",
    "precision = confusionmatrix[1,1]/(confusionmatrix[1,1]+confusionmatrix[0,1])\n",
    "recall = confusionmatrix[1,1]/(confusionmatrix[1,1]+confusionmatrix[1,0])\n",
    "print(f\"Precision: {precision * 100:.2f}%\")\n",
    "print(f\"Recall: {recall * 100:.2f}%\")\n",
    "F1calc = (2 * (precision*recall))/(precision+recall)\n",
    "print(f\"F1 Score Manual Calc: {F1calc * 100:.2f}%\")"
   ]
  },
  {
   "cell_type": "code",
   "execution_count": 23,
   "id": "05f5a488",
   "metadata": {},
   "outputs": [
    {
     "name": "stdout",
     "output_type": "stream",
     "text": [
      "(2291748, 14)\n",
      "(1833398, 13)\n",
      "(183339, 13)\n"
     ]
    }
   ],
   "source": [
    "#reduce train dataset size to speed up learning\n",
    "print(df.shape)\n",
    "print(X_train.shape)\n",
    "X_train2, X_test2, y_train2, y_test2 = train_test_split(X_train, y_train, test_size=0.9, random_state=42)\n",
    "print(X_train2.shape)\n"
   ]
  },
  {
   "cell_type": "code",
   "execution_count": 24,
   "id": "95e1baa0",
   "metadata": {},
   "outputs": [],
   "source": [
    "#Reset classifier and use sklearn optimiser\n",
    "\n",
    "from skopt import gp_minimize\n",
    "from skopt.plots import plot_convergence\n",
    "from skopt.space import Real, Integer, Categorical\n",
    "from skopt.utils import use_named_args\n",
    "from sklearn.model_selection import cross_val_score, train_test_split\n",
    "from sklearn.model_selection import StratifiedKFold\n",
    "\n",
    "# set the hyperparameter space\n",
    "clf = xgb.XGBClassifier()\n",
    "cv = StratifiedKFold(n_splits=10)\n",
    "param_grid = [\n",
    "    Integer(450, 500, name='n_estimators'),\n",
    "    Integer(3, 8, name='max_depth'),\n",
    "    Real(0.01, 0.99, name='learning_rate'),\n",
    "    Categorical(['gbtree', 'dart'], name='booster'),\n",
    "    Real(0.01, 10, name='gamma'),\n",
    "    Real(0.50, 0.90, name='subsample'),\n",
    "    Real(0.8, 0.85, name='colsample_bytree'),\n",
    "    Integer(1, 50, name='reg_lambda'),\n",
    "]\n"
   ]
  },
  {
   "cell_type": "code",
   "execution_count": 40,
   "id": "4679c98f",
   "metadata": {},
   "outputs": [],
   "source": [
    "# Optimising function\n",
    "@use_named_args(param_grid)\n",
    "def objective(**params):\n",
    "    \n",
    "    # model with new parameters\n",
    "    clf.set_params(**params)\n",
    "\n",
    "    # optimization function (hyperparam response function)\n",
    "    value = np.mean(\n",
    "        cross_val_score(\n",
    "            clf, \n",
    "            X_train2,\n",
    "            y_train2,\n",
    "            cv=cv,\n",
    "            n_jobs=-1,\n",
    "            scoring='f1',\n",
    "            verbose = 1)\n",
    "\n",
    "    )\n",
    "    print(value)\n",
    "    # negate because we need to minimize\n",
    "    return -value"
   ]
  },
  {
   "cell_type": "code",
   "execution_count": 41,
   "id": "4daff1ea",
   "metadata": {},
   "outputs": [
    {
     "name": "stdout",
     "output_type": "stream",
     "text": [
      "Optimisation started...\n"
     ]
    },
    {
     "name": "stderr",
     "output_type": "stream",
     "text": [
      "[Parallel(n_jobs=-1)]: Using backend LokyBackend with 8 concurrent workers.\n",
      "[Parallel(n_jobs=-1)]: Done   6 out of  10 | elapsed:  3.4min remaining:  2.2min\n",
      "[Parallel(n_jobs=-1)]: Done  10 out of  10 | elapsed:  5.0min finished\n",
      "[Parallel(n_jobs=-1)]: Using backend LokyBackend with 8 concurrent workers.\n"
     ]
    },
    {
     "name": "stdout",
     "output_type": "stream",
     "text": [
      "0.3497595762957803\n"
     ]
    },
    {
     "name": "stderr",
     "output_type": "stream",
     "text": [
      "[Parallel(n_jobs=-1)]: Done   6 out of  10 | elapsed: 23.7min remaining: 15.8min\n",
      "[Parallel(n_jobs=-1)]: Done  10 out of  10 | elapsed: 37.6min finished\n",
      "[Parallel(n_jobs=-1)]: Using backend LokyBackend with 8 concurrent workers.\n"
     ]
    },
    {
     "name": "stdout",
     "output_type": "stream",
     "text": [
      "0.3441043017559766\n"
     ]
    },
    {
     "name": "stderr",
     "output_type": "stream",
     "text": [
      "[Parallel(n_jobs=-1)]: Done   6 out of  10 | elapsed:  4.0min remaining:  2.7min\n",
      "[Parallel(n_jobs=-1)]: Done  10 out of  10 | elapsed:  5.6min finished\n",
      "[Parallel(n_jobs=-1)]: Using backend LokyBackend with 8 concurrent workers.\n"
     ]
    },
    {
     "name": "stdout",
     "output_type": "stream",
     "text": [
      "0.32414391802802645\n"
     ]
    },
    {
     "name": "stderr",
     "output_type": "stream",
     "text": [
      "[Parallel(n_jobs=-1)]: Done   6 out of  10 | elapsed:  2.9min remaining:  1.9min\n",
      "[Parallel(n_jobs=-1)]: Done  10 out of  10 | elapsed:  4.3min finished\n",
      "[Parallel(n_jobs=-1)]: Using backend LokyBackend with 8 concurrent workers.\n"
     ]
    },
    {
     "name": "stdout",
     "output_type": "stream",
     "text": [
      "0.34703886175858334\n"
     ]
    },
    {
     "name": "stderr",
     "output_type": "stream",
     "text": [
      "[Parallel(n_jobs=-1)]: Done   6 out of  10 | elapsed: 22.2min remaining: 14.8min\n",
      "[Parallel(n_jobs=-1)]: Done  10 out of  10 | elapsed: 35.2min finished\n",
      "[Parallel(n_jobs=-1)]: Using backend LokyBackend with 8 concurrent workers.\n"
     ]
    },
    {
     "name": "stdout",
     "output_type": "stream",
     "text": [
      "0.32568204844089743\n"
     ]
    },
    {
     "name": "stderr",
     "output_type": "stream",
     "text": [
      "[Parallel(n_jobs=-1)]: Done   6 out of  10 | elapsed:  4.2min remaining:  2.8min\n",
      "[Parallel(n_jobs=-1)]: Done  10 out of  10 | elapsed:  6.3min finished\n",
      "[Parallel(n_jobs=-1)]: Using backend LokyBackend with 8 concurrent workers.\n"
     ]
    },
    {
     "name": "stdout",
     "output_type": "stream",
     "text": [
      "0.3143409432845502\n"
     ]
    },
    {
     "name": "stderr",
     "output_type": "stream",
     "text": [
      "[Parallel(n_jobs=-1)]: Done   6 out of  10 | elapsed:  2.2min remaining:  1.5min\n",
      "[Parallel(n_jobs=-1)]: Done  10 out of  10 | elapsed:  3.4min finished\n",
      "[Parallel(n_jobs=-1)]: Using backend LokyBackend with 8 concurrent workers.\n"
     ]
    },
    {
     "name": "stdout",
     "output_type": "stream",
     "text": [
      "0.284730427559075\n"
     ]
    },
    {
     "name": "stderr",
     "output_type": "stream",
     "text": [
      "[Parallel(n_jobs=-1)]: Done   6 out of  10 | elapsed:  2.3min remaining:  1.5min\n",
      "[Parallel(n_jobs=-1)]: Done  10 out of  10 | elapsed:  3.4min finished\n",
      "[Parallel(n_jobs=-1)]: Using backend LokyBackend with 8 concurrent workers.\n"
     ]
    },
    {
     "name": "stdout",
     "output_type": "stream",
     "text": [
      "0.3349262844157651\n"
     ]
    },
    {
     "name": "stderr",
     "output_type": "stream",
     "text": [
      "[Parallel(n_jobs=-1)]: Done   6 out of  10 | elapsed:  2.8min remaining:  1.9min\n",
      "[Parallel(n_jobs=-1)]: Done  10 out of  10 | elapsed:  4.2min finished\n",
      "[Parallel(n_jobs=-1)]: Using backend LokyBackend with 8 concurrent workers.\n"
     ]
    },
    {
     "name": "stdout",
     "output_type": "stream",
     "text": [
      "0.2782961491666394\n"
     ]
    },
    {
     "name": "stderr",
     "output_type": "stream",
     "text": [
      "[Parallel(n_jobs=-1)]: Done   6 out of  10 | elapsed: 25.2min remaining: 16.8min\n",
      "[Parallel(n_jobs=-1)]: Done  10 out of  10 | elapsed: 39.5min finished\n"
     ]
    },
    {
     "name": "stdout",
     "output_type": "stream",
     "text": [
      "0.2752974929889951\n"
     ]
    }
   ],
   "source": [
    "# gp_minimize performs by default GP Optimization \n",
    "# using a Marten Kernel\n",
    "print(\"Optimisation started...\")\n",
    "gp_ = gp_minimize(\n",
    "    objective, # the objective function to minimize\n",
    "    param_grid, # the hyperparameter space\n",
    "    n_initial_points=10, # the number of points to evaluate f(x) to start of\n",
    "    acq_func='EI', # the acquisition function\n",
    "    n_calls=10, # the number of subsequent evaluations of f(x)\n",
    "    random_state=0, \n",
    ")"
   ]
  },
  {
   "cell_type": "code",
   "execution_count": 42,
   "id": "397ec079",
   "metadata": {},
   "outputs": [
    {
     "data": {
      "text/plain": [
       "'Best score=-0.3498'"
      ]
     },
     "execution_count": 42,
     "metadata": {},
     "output_type": "execute_result"
    }
   ],
   "source": [
    "# function value at the minimum.\n",
    "# note that it is the negative of the accuracy\n",
    "\n",
    "\"Best score=%.4f\" % gp_.fun"
   ]
  },
  {
   "cell_type": "code",
   "execution_count": 46,
   "id": "f58e4a28",
   "metadata": {},
   "outputs": [
    {
     "data": {
      "text/plain": [
       "[480,\n",
       " 7,\n",
       " 0.8507867052703019,\n",
       " 'gbtree',\n",
       " 6.239401330891865,\n",
       " 0.65375268291708,\n",
       " 0.8148767303272236,\n",
       " 4]"
      ]
     },
     "execution_count": 46,
     "metadata": {},
     "output_type": "execute_result"
    }
   ],
   "source": [
    "gp_.x"
   ]
  },
  {
   "cell_type": "code",
   "execution_count": 48,
   "id": "ebe6ab19",
   "metadata": {},
   "outputs": [
    {
     "name": "stdout",
     "output_type": "stream",
     "text": [
      "Best parameters:\n",
      "=========================\n",
      "- n_estimators = 480\n",
      "- colsample_bytree = 7.000000\n",
      "- learning_rate = 0.850787\n",
      "- booster = gbtree\n",
      "- gamma = 6.239401\n",
      "= subsample = 0.653753\n",
      "- colsample_bytree = 0.814877\n",
      "\n"
     ]
    }
   ],
   "source": [
    "print(\"\"\"Best parameters for XGBoost Classifier:\n",
    "=========================\n",
    "- n_estimators = %d\n",
    "- colsample_bytree = %.6f\n",
    "- learning_rate = %.6f\n",
    "- booster = %s\n",
    "- gamma = %.6f\n",
    "= subsample = %.6f\n",
    "- colsample_bytree = %.6f\n",
    "\"\"\" % (gp_.x[0],\n",
    "       gp_.x[1],\n",
    "       gp_.x[2],\n",
    "       gp_.x[3],\n",
    "       gp_.x[4],\n",
    "       gp_.x[5],\n",
    "       gp_.x[6],\n",
    "      ))"
   ]
  },
  {
   "cell_type": "code",
   "execution_count": 49,
   "id": "7d6fc33d",
   "metadata": {},
   "outputs": [
    {
     "data": {
      "text/plain": [
       "<Axes: title={'center': 'Convergence plot'}, xlabel='Number of calls $n$', ylabel='$\\\\min f(x)$ after $n$ calls'>"
      ]
     },
     "execution_count": 49,
     "metadata": {},
     "output_type": "execute_result"
    },
    {
     "data": {
      "image/png": "[encoded data removed]",
      "text/plain": [
       "<Figure size 640x480 with 1 Axes>"
      ]
     },
     "metadata": {},
     "output_type": "display_data"
    }
   ],
   "source": [
    "# Show convergence plot\n",
    "from skopt.plots import plot_convergence\n",
    "plot_convergence(gp_)"
   ]
  },
  {
   "cell_type": "code",
   "execution_count": 90,
   "id": "10720c2f",
   "metadata": {},
   "outputs": [
    {
     "data": {
      "text/html": [
       "<style>#sk-container-id-3 {color: black;background-color: white;}#sk-container-id-3 pre{padding: 0;}#sk-container-id-3 div.sk-toggleable {background-color: white;}#sk-container-id-3 label.sk-toggleable__label {cursor: pointer;display: block;width: 100%;margin-bottom: 0;padding: 0.3em;box-sizing: border-box;text-align: center;}#sk-container-id-3 label.sk-toggleable__label-arrow:before {content: \"▸\";float: left;margin-right: 0.25em;color: #696969;}#sk-container-id-3 label.sk-toggleable__label-arrow:hover:before {color: black;}#sk-container-id-3 div.sk-estimator:hover label.sk-toggleable__label-arrow:before {color: black;}#sk-container-id-3 div.sk-toggleable__content {max-height: 0;max-width: 0;overflow: hidden;text-align: left;background-color: #f0f8ff;}#sk-container-id-3 div.sk-toggleable__content pre {margin: 0.2em;color: black;border-radius: 0.25em;background-color: #f0f8ff;}#sk-container-id-3 input.sk-toggleable__control:checked~div.sk-toggleable__content {max-height: 200px;max-width: 100%;overflow: auto;}#sk-container-id-3 input.sk-toggleable__control:checked~label.sk-toggleable__label-arrow:before {content: \"▾\";}#sk-container-id-3 div.sk-estimator input.sk-toggleable__control:checked~label.sk-toggleable__label {background-color: #d4ebff;}#sk-container-id-3 div.sk-label input.sk-toggleable__control:checked~label.sk-toggleable__label {background-color: #d4ebff;}#sk-container-id-3 input.sk-hidden--visually {border: 0;clip: rect(1px 1px 1px 1px);clip: rect(1px, 1px, 1px, 1px);height: 1px;margin: -1px;overflow: hidden;padding: 0;position: absolute;width: 1px;}#sk-container-id-3 div.sk-estimator {font-family: monospace;background-color: #f0f8ff;border: 1px dotted black;border-radius: 0.25em;box-sizing: border-box;margin-bottom: 0.5em;}#sk-container-id-3 div.sk-estimator:hover {background-color: #d4ebff;}#sk-container-id-3 div.sk-parallel-item::after {content: \"\";width: 100%;border-bottom: 1px solid gray;flex-grow: 1;}#sk-container-id-3 div.sk-label:hover label.sk-toggleable__label {background-color: #d4ebff;}#sk-container-id-3 div.sk-serial::before {content: \"\";position: absolute;border-left: 1px solid gray;box-sizing: border-box;top: 0;bottom: 0;left: 50%;z-index: 0;}#sk-container-id-3 div.sk-serial {display: flex;flex-direction: column;align-items: center;background-color: white;padding-right: 0.2em;padding-left: 0.2em;position: relative;}#sk-container-id-3 div.sk-item {position: relative;z-index: 1;}#sk-container-id-3 div.sk-parallel {display: flex;align-items: stretch;justify-content: center;background-color: white;position: relative;}#sk-container-id-3 div.sk-item::before, #sk-container-id-3 div.sk-parallel-item::before {content: \"\";position: absolute;border-left: 1px solid gray;box-sizing: border-box;top: 0;bottom: 0;left: 50%;z-index: -1;}#sk-container-id-3 div.sk-parallel-item {display: flex;flex-direction: column;z-index: 1;position: relative;background-color: white;}#sk-container-id-3 div.sk-parallel-item:first-child::after {align-self: flex-end;width: 50%;}#sk-container-id-3 div.sk-parallel-item:last-child::after {align-self: flex-start;width: 50%;}#sk-container-id-3 div.sk-parallel-item:only-child::after {width: 0;}#sk-container-id-3 div.sk-dashed-wrapped {border: 1px dashed gray;margin: 0 0.4em 0.5em 0.4em;box-sizing: border-box;padding-bottom: 0.4em;background-color: white;}#sk-container-id-3 div.sk-label label {font-family: monospace;font-weight: bold;display: inline-block;line-height: 1.2em;}#sk-container-id-3 div.sk-label-container {text-align: center;}#sk-container-id-3 div.sk-container {/* jupyter's `normalize.less` sets `[hidden] { display: none; }` but bootstrap.min.css set `[hidden] { display: none !important; }` so we also need the `!important` here to be able to override the default hidden behavior on the sphinx rendered scikit-learn.org. See: https://github.com/scikit-learn/scikit-learn/issues/21755 */display: inline-block !important;position: relative;}#sk-container-id-3 div.sk-text-repr-fallback {display: none;}</style><div id=\"sk-container-id-3\" class=\"sk-top-container\"><div class=\"sk-text-repr-fallback\"><pre>XGBClassifier(base_score=None, booster=&#x27;gbtree&#x27;, callbacks=None,\n",
       "              colsample_bylevel=None, colsample_bynode=None,\n",
       "              colsample_bytree=0.814877, early_stopping_rounds=None,\n",
       "              enable_categorical=False, eval_metric=None, feature_types=None,\n",
       "              gamma=6.239401, gpu_id=None, grow_policy=None,\n",
       "              importance_type=None, interaction_constraints=None,\n",
       "              learning_rate=0.850787, max_bin=None, max_cat_threshold=None,\n",
       "              max_cat_to_onehot=None, max_delta_step=None, max_depth=None,\n",
       "              max_leaves=None, min_child_weight=None, missing=nan,\n",
       "              monotone_constraints=None, n_estimators=480, n_jobs=None,\n",
       "              num_parallel_tree=None, predictor=None, random_state=None, ...)</pre><b>In a Jupyter environment, please rerun this cell to show the HTML representation or trust the notebook. <br />On GitHub, the HTML representation is unable to render, please try loading this page with nbviewer.org.</b></div><div class=\"sk-container\" hidden><div class=\"sk-item\"><div class=\"sk-estimator sk-toggleable\"><input class=\"sk-toggleable__control sk-hidden--visually\" id=\"sk-estimator-id-3\" type=\"checkbox\" checked><label for=\"sk-estimator-id-3\" class=\"sk-toggleable__label sk-toggleable__label-arrow\">XGBClassifier</label><div class=\"sk-toggleable__content\"><pre>XGBClassifier(base_score=None, booster=&#x27;gbtree&#x27;, callbacks=None,\n",
       "              colsample_bylevel=None, colsample_bynode=None,\n",
       "              colsample_bytree=0.814877, early_stopping_rounds=None,\n",
       "              enable_categorical=False, eval_metric=None, feature_types=None,\n",
       "              gamma=6.239401, gpu_id=None, grow_policy=None,\n",
       "              importance_type=None, interaction_constraints=None,\n",
       "              learning_rate=0.850787, max_bin=None, max_cat_threshold=None,\n",
       "              max_cat_to_onehot=None, max_delta_step=None, max_depth=None,\n",
       "              max_leaves=None, min_child_weight=None, missing=nan,\n",
       "              monotone_constraints=None, n_estimators=480, n_jobs=None,\n",
       "              num_parallel_tree=None, predictor=None, random_state=None, ...)</pre></div></div></div></div></div>"
      ],
      "text/plain": [
       "XGBClassifier(base_score=None, booster='gbtree', callbacks=None,\n",
       "              colsample_bylevel=None, colsample_bynode=None,\n",
       "              colsample_bytree=0.814877, early_stopping_rounds=None,\n",
       "              enable_categorical=False, eval_metric=None, feature_types=None,\n",
       "              gamma=6.239401, gpu_id=None, grow_policy=None,\n",
       "              importance_type=None, interaction_constraints=None,\n",
       "              learning_rate=0.850787, max_bin=None, max_cat_threshold=None,\n",
       "              max_cat_to_onehot=None, max_delta_step=None, max_depth=None,\n",
       "              max_leaves=None, min_child_weight=None, missing=nan,\n",
       "              monotone_constraints=None, n_estimators=480, n_jobs=None,\n",
       "              num_parallel_tree=None, predictor=None, random_state=None, ...)"
      ]
     },
     "execution_count": 90,
     "metadata": {},
     "output_type": "execute_result"
    }
   ],
   "source": [
    "# Populate model with optimised hyperparameters\n",
    "clf_optimised = xgb.XGBClassifier()\n",
    "params = {\n",
    "        \"n_estimators\": 480,\n",
    "        \"colsample_bytree\": 7,\n",
    "        \"learning_rate\": 0.850787,\n",
    "        \"booster\": \"gbtree\",\n",
    "        \"gamma\": 6.239401,\n",
    "        \"subsample\": 0.653753,\n",
    "        \"colsample_bytree\": 0.814877,\n",
    "        }\n",
    "\n",
    "clf.set_params(**params)"
   ]
  },
  {
   "cell_type": "code",
   "execution_count": 91,
   "id": "ec710a4f",
   "metadata": {},
   "outputs": [
    {
     "name": "stdout",
     "output_type": "stream",
     "text": [
      "Optimised Model trained\n"
     ]
    }
   ],
   "source": [
    "#Train the optimised model\n",
    "clf_optimised.fit(X_train, y_train)\n",
    "y_pred = clf_optimised.predict(X_test)\n",
    "print(\"Optimised Model trained\")"
   ]
  },
  {
   "cell_type": "code",
   "execution_count": 92,
   "id": "e95ea2d3",
   "metadata": {},
   "outputs": [
    {
     "name": "stdout",
     "output_type": "stream",
     "text": [
      "Accuracy: 88.40%\n",
      "F1 score: 31.50%\n",
      "ROC AUC: 86.33%\n",
      "Confusion matrix:  [[392933   7218]\n",
      " [ 45969  12230]]\n",
      "Precision: 62.89%\n",
      "Recall: 21.01%\n",
      "F1 Score Manual Calc: 31.50%\n"
     ]
    }
   ],
   "source": [
    "#Report model metrics\n",
    "\n",
    "accuracy = accuracy_score(y_test, y_pred)\n",
    "print(f\"Accuracy: {accuracy * 100:.2f}%\")\n",
    "f1score = f1_score(y_test, y_pred)\n",
    "print(f\"F1 score: {f1score * 100:.2f}%\")\n",
    "y_pred_proba = clf_optimised.predict_proba(X_test)[:,1]\n",
    "rocscore = roc_auc_score(y_test, y_pred_proba)\n",
    "print(f\"ROC AUC: {rocscore * 100:.2f}%\")\n",
    "confusionmatrix = confusion_matrix(y_test, y_pred)\n",
    "print(\"Confusion matrix: \", confusionmatrix)\n",
    "precision = confusionmatrix[1,1]/(confusionmatrix[1,1]+confusionmatrix[0,1])\n",
    "recall = confusionmatrix[1,1]/(confusionmatrix[1,1]+confusionmatrix[1,0])\n",
    "print(f\"Precision: {precision * 100:.2f}%\")\n",
    "print(f\"Recall: {recall * 100:.2f}%\")\n",
    "F1calc = (2 * (precision*recall))/(precision+recall)\n",
    "print(f\"F1 Score Manual Calc: {F1calc * 100:.2f}%\")"
   ]
  },
  {
   "cell_type": "code",
   "execution_count": null,
   "id": "ea0d1a59",
   "metadata": {},
   "outputs": [],
   "source": [
    "#Try Random Forest Vanilla Classifier\n",
    "from sklearn.ensemble import RandomForestClassifier\n",
    "rfc = RandomForestClassifier(n_estimators=50)\n",
    "rfc.fit(X_train2, y_train2)  \n",
    "y_pred = rfc.predict(X_test)\n",
    "print(\"RFC Model trained\")"
   ]
  },
  {
   "cell_type": "code",
   "execution_count": null,
   "id": "d37fded1",
   "metadata": {},
   "outputs": [],
   "source": [
    "#Jupyter fails with Dead Kernel error from the cell above to the end of the notebook :("
   ]
  },
  {
   "cell_type": "code",
   "execution_count": null,
   "id": "f9c311c1",
   "metadata": {},
   "outputs": [],
   "source": [
    "accuracy = accuracy_score(y_test, y_pred)\n",
    "print(f\"Accuracy: {accuracy * 100:.2f}%\")\n",
    "f1score = f1_score(y_test, y_pred)\n",
    "print(f\"F1 score: {f1score * 100:.2f}%\")\n",
    "y_pred_proba = rfc.predict_proba(X_test)[:,1]\n",
    "rocscore = roc_auc_score(y_test, y_pred_proba)\n",
    "print(f\"ROC AUC: {rocscore * 100:.2f}%\")\n",
    "confusionmatrix = confusion_matrix(y_test, y_pred)\n",
    "print(\"Confusion matrix: \", confusionmatrix)"
   ]
  },
  {
   "cell_type": "code",
   "execution_count": null,
   "id": "57860642",
   "metadata": {},
   "outputs": [],
   "source": [
    "#Optimise Random Forest Classifier\n",
    "#Reset classifier and use sklearn optimiser\n",
    "\n",
    "from skopt import gp_minimize\n",
    "from skopt.plots import plot_convergence\n",
    "from skopt.space import Real, Integer, Categorical\n",
    "from skopt.utils import use_named_args\n",
    "from sklearn.model_selection import cross_val_score, train_test_split\n",
    "\n",
    "\n",
    "rfc = RandomForestClassifier()\n",
    "\n",
    "param_grid = [\n",
    "    Integer(10, 500, name='n_estimators'),\n",
    "    Integer(3, 10, name='max_depth'),\n",
    "    Categorical(['None', 'balanced'], name='class_weight'),\n",
    "    Categorical(['True', 'False'], name='bootstrap'),\n",
    "    Real(0.0, 1.0, name='min_impurity_decrease'),\n",
    "]\n"
   ]
  },
  {
   "cell_type": "code",
   "execution_count": 43,
   "id": "5f844ee2",
   "metadata": {},
   "outputs": [],
   "source": [
    "# Optimising function for Random Forest Classifier\n",
    "def objective_rfc(**params):\n",
    "    \n",
    "    # model with new parameters\n",
    "    rfc.set_params(**params)\n",
    "\n",
    "    # optimization function (hyperparam response function)\n",
    "    value = np.mean(\n",
    "        cross_val_score(\n",
    "            rfc, \n",
    "            X_train2,\n",
    "            y_train2,\n",
    "            n_jobs=-1,\n",
    "            scoring='f1',\n",
    "            verbose = 1)\n",
    "\n",
    "    )\n",
    "    print(value)\n",
    "    # negate because we need to minimize\n",
    "    return -value"
   ]
  },
  {
   "cell_type": "code",
   "execution_count": 45,
   "id": "6ee1ab13",
   "metadata": {},
   "outputs": [
    {
     "name": "stdout",
     "output_type": "stream",
     "text": [
      "Optimisation started...\n"
     ]
    },
    {
     "name": "stderr",
     "output_type": "stream",
     "text": [
      "[Parallel(n_jobs=-1)]: Using backend LokyBackend with 8 concurrent workers.\n",
      "[Parallel(n_jobs=-1)]: Done   2 out of   5 | elapsed:   44.3s remaining:  1.1min\n"
     ]
    },
    {
     "ename": "TerminatedWorkerError",
     "evalue": "A worker process managed by the executor was unexpectedly terminated. This could be caused by a segmentation fault while calling the function or by an excessive memory usage causing the Operating System to kill the worker.\n",
     "output_type": "error",
     "traceback": [
      "\u001b[1;31m---------------------------------------------------------------------------\u001b[0m",
      "\u001b[1;31mTerminatedWorkerError\u001b[0m                     Traceback (most recent call last)",
      "Cell \u001b[1;32mIn[45], line 4\u001b[0m\n\u001b[0;32m      1\u001b[0m \u001b[38;5;66;03m# gp_minimize performs by default GP Optimization \u001b[39;00m\n\u001b[0;32m      2\u001b[0m \u001b[38;5;66;03m# using a Marten Kernel\u001b[39;00m\n\u001b[0;32m      3\u001b[0m \u001b[38;5;28mprint\u001b[39m(\u001b[38;5;124m\"\u001b[39m\u001b[38;5;124mOptimisation started...\u001b[39m\u001b[38;5;124m\"\u001b[39m)\n\u001b[1;32m----> 4\u001b[0m gp_ \u001b[38;5;241m=\u001b[39m \u001b[43mgp_minimize\u001b[49m\u001b[43m(\u001b[49m\n\u001b[0;32m      5\u001b[0m \u001b[43m    \u001b[49m\u001b[43mobjective_rfc\u001b[49m\u001b[43m,\u001b[49m\u001b[43m \u001b[49m\u001b[38;5;66;43;03m# the objective function to minimize\u001b[39;49;00m\n\u001b[0;32m      6\u001b[0m \u001b[43m    \u001b[49m\u001b[43mparam_grid\u001b[49m\u001b[43m,\u001b[49m\u001b[43m \u001b[49m\u001b[38;5;66;43;03m# the hyperparameter space\u001b[39;49;00m\n\u001b[0;32m      7\u001b[0m \u001b[43m    \u001b[49m\u001b[43mn_initial_points\u001b[49m\u001b[38;5;241;43m=\u001b[39;49m\u001b[38;5;241;43m10\u001b[39;49m\u001b[43m,\u001b[49m\u001b[43m \u001b[49m\u001b[38;5;66;43;03m# the number of points to evaluate f(x) to start of\u001b[39;49;00m\n\u001b[0;32m      8\u001b[0m \u001b[43m    \u001b[49m\u001b[43macq_func\u001b[49m\u001b[38;5;241;43m=\u001b[39;49m\u001b[38;5;124;43m'\u001b[39;49m\u001b[38;5;124;43mEI\u001b[39;49m\u001b[38;5;124;43m'\u001b[39;49m\u001b[43m,\u001b[49m\u001b[43m \u001b[49m\u001b[38;5;66;43;03m# the acquisition function\u001b[39;49;00m\n\u001b[0;32m      9\u001b[0m \u001b[43m    \u001b[49m\u001b[43mn_calls\u001b[49m\u001b[38;5;241;43m=\u001b[39;49m\u001b[38;5;241;43m10\u001b[39;49m\u001b[43m,\u001b[49m\u001b[43m \u001b[49m\u001b[38;5;66;43;03m# the number of subsequent evaluations of f(x)\u001b[39;49;00m\n\u001b[0;32m     10\u001b[0m \u001b[43m    \u001b[49m\u001b[43mrandom_state\u001b[49m\u001b[38;5;241;43m=\u001b[39;49m\u001b[38;5;241;43m0\u001b[39;49m\u001b[43m,\u001b[49m\u001b[43m \u001b[49m\n\u001b[0;32m     11\u001b[0m \u001b[43m)\u001b[49m\n",
      "File \u001b[1;32md:\\anaconda3\\lib\\site-packages\\skopt\\optimizer\\gp.py:259\u001b[0m, in \u001b[0;36mgp_minimize\u001b[1;34m(func, dimensions, base_estimator, n_calls, n_random_starts, n_initial_points, initial_point_generator, acq_func, acq_optimizer, x0, y0, random_state, verbose, callback, n_points, n_restarts_optimizer, xi, kappa, noise, n_jobs, model_queue_size)\u001b[0m\n\u001b[0;32m    254\u001b[0m \u001b[38;5;28;01mif\u001b[39;00m base_estimator \u001b[38;5;129;01mis\u001b[39;00m \u001b[38;5;28;01mNone\u001b[39;00m:\n\u001b[0;32m    255\u001b[0m     base_estimator \u001b[38;5;241m=\u001b[39m cook_estimator(\n\u001b[0;32m    256\u001b[0m         \u001b[38;5;124m\"\u001b[39m\u001b[38;5;124mGP\u001b[39m\u001b[38;5;124m\"\u001b[39m, space\u001b[38;5;241m=\u001b[39mspace, random_state\u001b[38;5;241m=\u001b[39mrng\u001b[38;5;241m.\u001b[39mrandint(\u001b[38;5;241m0\u001b[39m, np\u001b[38;5;241m.\u001b[39miinfo(np\u001b[38;5;241m.\u001b[39mint32)\u001b[38;5;241m.\u001b[39mmax),\n\u001b[0;32m    257\u001b[0m         noise\u001b[38;5;241m=\u001b[39mnoise)\n\u001b[1;32m--> 259\u001b[0m \u001b[38;5;28;01mreturn\u001b[39;00m \u001b[43mbase_minimize\u001b[49m\u001b[43m(\u001b[49m\n\u001b[0;32m    260\u001b[0m \u001b[43m    \u001b[49m\u001b[43mfunc\u001b[49m\u001b[43m,\u001b[49m\u001b[43m \u001b[49m\u001b[43mspace\u001b[49m\u001b[43m,\u001b[49m\u001b[43m \u001b[49m\u001b[43mbase_estimator\u001b[49m\u001b[38;5;241;43m=\u001b[39;49m\u001b[43mbase_estimator\u001b[49m\u001b[43m,\u001b[49m\n\u001b[0;32m    261\u001b[0m \u001b[43m    \u001b[49m\u001b[43macq_func\u001b[49m\u001b[38;5;241;43m=\u001b[39;49m\u001b[43macq_func\u001b[49m\u001b[43m,\u001b[49m\n\u001b[0;32m    262\u001b[0m \u001b[43m    \u001b[49m\u001b[43mxi\u001b[49m\u001b[38;5;241;43m=\u001b[39;49m\u001b[43mxi\u001b[49m\u001b[43m,\u001b[49m\u001b[43m \u001b[49m\u001b[43mkappa\u001b[49m\u001b[38;5;241;43m=\u001b[39;49m\u001b[43mkappa\u001b[49m\u001b[43m,\u001b[49m\u001b[43m \u001b[49m\u001b[43macq_optimizer\u001b[49m\u001b[38;5;241;43m=\u001b[39;49m\u001b[43macq_optimizer\u001b[49m\u001b[43m,\u001b[49m\u001b[43m \u001b[49m\u001b[43mn_calls\u001b[49m\u001b[38;5;241;43m=\u001b[39;49m\u001b[43mn_calls\u001b[49m\u001b[43m,\u001b[49m\n\u001b[0;32m    263\u001b[0m \u001b[43m    \u001b[49m\u001b[43mn_points\u001b[49m\u001b[38;5;241;43m=\u001b[39;49m\u001b[43mn_points\u001b[49m\u001b[43m,\u001b[49m\u001b[43m \u001b[49m\u001b[43mn_random_starts\u001b[49m\u001b[38;5;241;43m=\u001b[39;49m\u001b[43mn_random_starts\u001b[49m\u001b[43m,\u001b[49m\n\u001b[0;32m    264\u001b[0m \u001b[43m    \u001b[49m\u001b[43mn_initial_points\u001b[49m\u001b[38;5;241;43m=\u001b[39;49m\u001b[43mn_initial_points\u001b[49m\u001b[43m,\u001b[49m\n\u001b[0;32m    265\u001b[0m \u001b[43m    \u001b[49m\u001b[43minitial_point_generator\u001b[49m\u001b[38;5;241;43m=\u001b[39;49m\u001b[43minitial_point_generator\u001b[49m\u001b[43m,\u001b[49m\n\u001b[0;32m    266\u001b[0m \u001b[43m    \u001b[49m\u001b[43mn_restarts_optimizer\u001b[49m\u001b[38;5;241;43m=\u001b[39;49m\u001b[43mn_restarts_optimizer\u001b[49m\u001b[43m,\u001b[49m\n\u001b[0;32m    267\u001b[0m \u001b[43m    \u001b[49m\u001b[43mx0\u001b[49m\u001b[38;5;241;43m=\u001b[39;49m\u001b[43mx0\u001b[49m\u001b[43m,\u001b[49m\u001b[43m \u001b[49m\u001b[43my0\u001b[49m\u001b[38;5;241;43m=\u001b[39;49m\u001b[43my0\u001b[49m\u001b[43m,\u001b[49m\u001b[43m \u001b[49m\u001b[43mrandom_state\u001b[49m\u001b[38;5;241;43m=\u001b[39;49m\u001b[43mrng\u001b[49m\u001b[43m,\u001b[49m\u001b[43m \u001b[49m\u001b[43mverbose\u001b[49m\u001b[38;5;241;43m=\u001b[39;49m\u001b[43mverbose\u001b[49m\u001b[43m,\u001b[49m\n\u001b[0;32m    268\u001b[0m \u001b[43m    \u001b[49m\u001b[43mcallback\u001b[49m\u001b[38;5;241;43m=\u001b[39;49m\u001b[43mcallback\u001b[49m\u001b[43m,\u001b[49m\u001b[43m \u001b[49m\u001b[43mn_jobs\u001b[49m\u001b[38;5;241;43m=\u001b[39;49m\u001b[43mn_jobs\u001b[49m\u001b[43m,\u001b[49m\u001b[43m \u001b[49m\u001b[43mmodel_queue_size\u001b[49m\u001b[38;5;241;43m=\u001b[39;49m\u001b[43mmodel_queue_size\u001b[49m\u001b[43m)\u001b[49m\n",
      "File \u001b[1;32md:\\anaconda3\\lib\\site-packages\\skopt\\optimizer\\base.py:299\u001b[0m, in \u001b[0;36mbase_minimize\u001b[1;34m(func, dimensions, base_estimator, n_calls, n_random_starts, n_initial_points, initial_point_generator, acq_func, acq_optimizer, x0, y0, random_state, verbose, callback, n_points, n_restarts_optimizer, xi, kappa, n_jobs, model_queue_size)\u001b[0m\n\u001b[0;32m    297\u001b[0m \u001b[38;5;28;01mfor\u001b[39;00m n \u001b[38;5;129;01min\u001b[39;00m \u001b[38;5;28mrange\u001b[39m(n_calls):\n\u001b[0;32m    298\u001b[0m     next_x \u001b[38;5;241m=\u001b[39m optimizer\u001b[38;5;241m.\u001b[39mask()\n\u001b[1;32m--> 299\u001b[0m     next_y \u001b[38;5;241m=\u001b[39m \u001b[43mfunc\u001b[49m\u001b[43m(\u001b[49m\u001b[43mnext_x\u001b[49m\u001b[43m)\u001b[49m\n\u001b[0;32m    300\u001b[0m     result \u001b[38;5;241m=\u001b[39m optimizer\u001b[38;5;241m.\u001b[39mtell(next_x, next_y)\n\u001b[0;32m    301\u001b[0m     result\u001b[38;5;241m.\u001b[39mspecs \u001b[38;5;241m=\u001b[39m specs\n",
      "File \u001b[1;32md:\\anaconda3\\lib\\site-packages\\skopt\\utils.py:789\u001b[0m, in \u001b[0;36muse_named_args.<locals>.decorator.<locals>.wrapper\u001b[1;34m(x)\u001b[0m\n\u001b[0;32m    786\u001b[0m arg_dict \u001b[38;5;241m=\u001b[39m {dim\u001b[38;5;241m.\u001b[39mname: value \u001b[38;5;28;01mfor\u001b[39;00m dim, value \u001b[38;5;129;01min\u001b[39;00m \u001b[38;5;28mzip\u001b[39m(dimensions, x)}\n\u001b[0;32m    788\u001b[0m \u001b[38;5;66;03m# Call the wrapped objective function with the named arguments.\u001b[39;00m\n\u001b[1;32m--> 789\u001b[0m objective_value \u001b[38;5;241m=\u001b[39m \u001b[43mfunc\u001b[49m\u001b[43m(\u001b[49m\u001b[38;5;241;43m*\u001b[39;49m\u001b[38;5;241;43m*\u001b[39;49m\u001b[43marg_dict\u001b[49m\u001b[43m)\u001b[49m\n\u001b[0;32m    791\u001b[0m \u001b[38;5;28;01mreturn\u001b[39;00m objective_value\n",
      "Cell \u001b[1;32mIn[43], line 14\u001b[0m, in \u001b[0;36mobjective_rfc\u001b[1;34m(**params)\u001b[0m\n\u001b[0;32m     10\u001b[0m rfc\u001b[38;5;241m.\u001b[39mset_params(\u001b[38;5;241m*\u001b[39m\u001b[38;5;241m*\u001b[39mparams)\n\u001b[0;32m     12\u001b[0m \u001b[38;5;66;03m# optimization function (hyperparam response function)\u001b[39;00m\n\u001b[0;32m     13\u001b[0m value \u001b[38;5;241m=\u001b[39m np\u001b[38;5;241m.\u001b[39mmean(\n\u001b[1;32m---> 14\u001b[0m     \u001b[43mcross_val_score\u001b[49m\u001b[43m(\u001b[49m\n\u001b[0;32m     15\u001b[0m \u001b[43m        \u001b[49m\u001b[43mrfc\u001b[49m\u001b[43m,\u001b[49m\u001b[43m \u001b[49m\n\u001b[0;32m     16\u001b[0m \u001b[43m        \u001b[49m\u001b[43mX_train\u001b[49m\u001b[43m,\u001b[49m\n\u001b[0;32m     17\u001b[0m \u001b[43m        \u001b[49m\u001b[43my_train\u001b[49m\u001b[43m,\u001b[49m\n\u001b[0;32m     18\u001b[0m \u001b[43m        \u001b[49m\u001b[43mn_jobs\u001b[49m\u001b[38;5;241;43m=\u001b[39;49m\u001b[38;5;241;43m-\u001b[39;49m\u001b[38;5;241;43m1\u001b[39;49m\u001b[43m,\u001b[49m\n\u001b[0;32m     19\u001b[0m \u001b[43m        \u001b[49m\u001b[43mscoring\u001b[49m\u001b[38;5;241;43m=\u001b[39;49m\u001b[38;5;124;43m'\u001b[39;49m\u001b[38;5;124;43mf1\u001b[39;49m\u001b[38;5;124;43m'\u001b[39;49m\u001b[43m,\u001b[49m\n\u001b[0;32m     20\u001b[0m \u001b[43m        \u001b[49m\u001b[43mverbose\u001b[49m\u001b[43m \u001b[49m\u001b[38;5;241;43m=\u001b[39;49m\u001b[43m \u001b[49m\u001b[38;5;241;43m1\u001b[39;49m\u001b[43m)\u001b[49m\n\u001b[0;32m     21\u001b[0m \n\u001b[0;32m     22\u001b[0m )\n\u001b[0;32m     23\u001b[0m \u001b[38;5;28mprint\u001b[39m(value)\n\u001b[0;32m     24\u001b[0m \u001b[38;5;66;03m# negate because we need to minimize\u001b[39;00m\n",
      "File \u001b[1;32md:\\anaconda3\\lib\\site-packages\\sklearn\\model_selection\\_validation.py:515\u001b[0m, in \u001b[0;36mcross_val_score\u001b[1;34m(estimator, X, y, groups, scoring, cv, n_jobs, verbose, fit_params, pre_dispatch, error_score)\u001b[0m\n\u001b[0;32m    512\u001b[0m \u001b[38;5;66;03m# To ensure multimetric format is not supported\u001b[39;00m\n\u001b[0;32m    513\u001b[0m scorer \u001b[38;5;241m=\u001b[39m check_scoring(estimator, scoring\u001b[38;5;241m=\u001b[39mscoring)\n\u001b[1;32m--> 515\u001b[0m cv_results \u001b[38;5;241m=\u001b[39m \u001b[43mcross_validate\u001b[49m\u001b[43m(\u001b[49m\n\u001b[0;32m    516\u001b[0m \u001b[43m    \u001b[49m\u001b[43mestimator\u001b[49m\u001b[38;5;241;43m=\u001b[39;49m\u001b[43mestimator\u001b[49m\u001b[43m,\u001b[49m\n\u001b[0;32m    517\u001b[0m \u001b[43m    \u001b[49m\u001b[43mX\u001b[49m\u001b[38;5;241;43m=\u001b[39;49m\u001b[43mX\u001b[49m\u001b[43m,\u001b[49m\n\u001b[0;32m    518\u001b[0m \u001b[43m    \u001b[49m\u001b[43my\u001b[49m\u001b[38;5;241;43m=\u001b[39;49m\u001b[43my\u001b[49m\u001b[43m,\u001b[49m\n\u001b[0;32m    519\u001b[0m \u001b[43m    \u001b[49m\u001b[43mgroups\u001b[49m\u001b[38;5;241;43m=\u001b[39;49m\u001b[43mgroups\u001b[49m\u001b[43m,\u001b[49m\n\u001b[0;32m    520\u001b[0m \u001b[43m    \u001b[49m\u001b[43mscoring\u001b[49m\u001b[38;5;241;43m=\u001b[39;49m\u001b[43m{\u001b[49m\u001b[38;5;124;43m\"\u001b[39;49m\u001b[38;5;124;43mscore\u001b[39;49m\u001b[38;5;124;43m\"\u001b[39;49m\u001b[43m:\u001b[49m\u001b[43m \u001b[49m\u001b[43mscorer\u001b[49m\u001b[43m}\u001b[49m\u001b[43m,\u001b[49m\n\u001b[0;32m    521\u001b[0m \u001b[43m    \u001b[49m\u001b[43mcv\u001b[49m\u001b[38;5;241;43m=\u001b[39;49m\u001b[43mcv\u001b[49m\u001b[43m,\u001b[49m\n\u001b[0;32m    522\u001b[0m \u001b[43m    \u001b[49m\u001b[43mn_jobs\u001b[49m\u001b[38;5;241;43m=\u001b[39;49m\u001b[43mn_jobs\u001b[49m\u001b[43m,\u001b[49m\n\u001b[0;32m    523\u001b[0m \u001b[43m    \u001b[49m\u001b[43mverbose\u001b[49m\u001b[38;5;241;43m=\u001b[39;49m\u001b[43mverbose\u001b[49m\u001b[43m,\u001b[49m\n\u001b[0;32m    524\u001b[0m \u001b[43m    \u001b[49m\u001b[43mfit_params\u001b[49m\u001b[38;5;241;43m=\u001b[39;49m\u001b[43mfit_params\u001b[49m\u001b[43m,\u001b[49m\n\u001b[0;32m    525\u001b[0m \u001b[43m    \u001b[49m\u001b[43mpre_dispatch\u001b[49m\u001b[38;5;241;43m=\u001b[39;49m\u001b[43mpre_dispatch\u001b[49m\u001b[43m,\u001b[49m\n\u001b[0;32m    526\u001b[0m \u001b[43m    \u001b[49m\u001b[43merror_score\u001b[49m\u001b[38;5;241;43m=\u001b[39;49m\u001b[43merror_score\u001b[49m\u001b[43m,\u001b[49m\n\u001b[0;32m    527\u001b[0m \u001b[43m\u001b[49m\u001b[43m)\u001b[49m\n\u001b[0;32m    528\u001b[0m \u001b[38;5;28;01mreturn\u001b[39;00m cv_results[\u001b[38;5;124m\"\u001b[39m\u001b[38;5;124mtest_score\u001b[39m\u001b[38;5;124m\"\u001b[39m]\n",
      "File \u001b[1;32md:\\anaconda3\\lib\\site-packages\\sklearn\\model_selection\\_validation.py:266\u001b[0m, in \u001b[0;36mcross_validate\u001b[1;34m(estimator, X, y, groups, scoring, cv, n_jobs, verbose, fit_params, pre_dispatch, return_train_score, return_estimator, error_score)\u001b[0m\n\u001b[0;32m    263\u001b[0m \u001b[38;5;66;03m# We clone the estimator to make sure that all the folds are\u001b[39;00m\n\u001b[0;32m    264\u001b[0m \u001b[38;5;66;03m# independent, and that it is pickle-able.\u001b[39;00m\n\u001b[0;32m    265\u001b[0m parallel \u001b[38;5;241m=\u001b[39m Parallel(n_jobs\u001b[38;5;241m=\u001b[39mn_jobs, verbose\u001b[38;5;241m=\u001b[39mverbose, pre_dispatch\u001b[38;5;241m=\u001b[39mpre_dispatch)\n\u001b[1;32m--> 266\u001b[0m results \u001b[38;5;241m=\u001b[39m \u001b[43mparallel\u001b[49m\u001b[43m(\u001b[49m\n\u001b[0;32m    267\u001b[0m \u001b[43m    \u001b[49m\u001b[43mdelayed\u001b[49m\u001b[43m(\u001b[49m\u001b[43m_fit_and_score\u001b[49m\u001b[43m)\u001b[49m\u001b[43m(\u001b[49m\n\u001b[0;32m    268\u001b[0m \u001b[43m        \u001b[49m\u001b[43mclone\u001b[49m\u001b[43m(\u001b[49m\u001b[43mestimator\u001b[49m\u001b[43m)\u001b[49m\u001b[43m,\u001b[49m\n\u001b[0;32m    269\u001b[0m \u001b[43m        \u001b[49m\u001b[43mX\u001b[49m\u001b[43m,\u001b[49m\n\u001b[0;32m    270\u001b[0m \u001b[43m        \u001b[49m\u001b[43my\u001b[49m\u001b[43m,\u001b[49m\n\u001b[0;32m    271\u001b[0m \u001b[43m        \u001b[49m\u001b[43mscorers\u001b[49m\u001b[43m,\u001b[49m\n\u001b[0;32m    272\u001b[0m \u001b[43m        \u001b[49m\u001b[43mtrain\u001b[49m\u001b[43m,\u001b[49m\n\u001b[0;32m    273\u001b[0m \u001b[43m        \u001b[49m\u001b[43mtest\u001b[49m\u001b[43m,\u001b[49m\n\u001b[0;32m    274\u001b[0m \u001b[43m        \u001b[49m\u001b[43mverbose\u001b[49m\u001b[43m,\u001b[49m\n\u001b[0;32m    275\u001b[0m \u001b[43m        \u001b[49m\u001b[38;5;28;43;01mNone\u001b[39;49;00m\u001b[43m,\u001b[49m\n\u001b[0;32m    276\u001b[0m \u001b[43m        \u001b[49m\u001b[43mfit_params\u001b[49m\u001b[43m,\u001b[49m\n\u001b[0;32m    277\u001b[0m \u001b[43m        \u001b[49m\u001b[43mreturn_train_score\u001b[49m\u001b[38;5;241;43m=\u001b[39;49m\u001b[43mreturn_train_score\u001b[49m\u001b[43m,\u001b[49m\n\u001b[0;32m    278\u001b[0m \u001b[43m        \u001b[49m\u001b[43mreturn_times\u001b[49m\u001b[38;5;241;43m=\u001b[39;49m\u001b[38;5;28;43;01mTrue\u001b[39;49;00m\u001b[43m,\u001b[49m\n\u001b[0;32m    279\u001b[0m \u001b[43m        \u001b[49m\u001b[43mreturn_estimator\u001b[49m\u001b[38;5;241;43m=\u001b[39;49m\u001b[43mreturn_estimator\u001b[49m\u001b[43m,\u001b[49m\n\u001b[0;32m    280\u001b[0m \u001b[43m        \u001b[49m\u001b[43merror_score\u001b[49m\u001b[38;5;241;43m=\u001b[39;49m\u001b[43merror_score\u001b[49m\u001b[43m,\u001b[49m\n\u001b[0;32m    281\u001b[0m \u001b[43m    \u001b[49m\u001b[43m)\u001b[49m\n\u001b[0;32m    282\u001b[0m \u001b[43m    \u001b[49m\u001b[38;5;28;43;01mfor\u001b[39;49;00m\u001b[43m \u001b[49m\u001b[43mtrain\u001b[49m\u001b[43m,\u001b[49m\u001b[43m \u001b[49m\u001b[43mtest\u001b[49m\u001b[43m \u001b[49m\u001b[38;5;129;43;01min\u001b[39;49;00m\u001b[43m \u001b[49m\u001b[43mcv\u001b[49m\u001b[38;5;241;43m.\u001b[39;49m\u001b[43msplit\u001b[49m\u001b[43m(\u001b[49m\u001b[43mX\u001b[49m\u001b[43m,\u001b[49m\u001b[43m \u001b[49m\u001b[43my\u001b[49m\u001b[43m,\u001b[49m\u001b[43m \u001b[49m\u001b[43mgroups\u001b[49m\u001b[43m)\u001b[49m\n\u001b[0;32m    283\u001b[0m \u001b[43m\u001b[49m\u001b[43m)\u001b[49m\n\u001b[0;32m    285\u001b[0m _warn_or_raise_about_fit_failures(results, error_score)\n\u001b[0;32m    287\u001b[0m \u001b[38;5;66;03m# For callabe scoring, the return type is only know after calling. If the\u001b[39;00m\n\u001b[0;32m    288\u001b[0m \u001b[38;5;66;03m# return type is a dictionary, the error scores can now be inserted with\u001b[39;00m\n\u001b[0;32m    289\u001b[0m \u001b[38;5;66;03m# the correct key.\u001b[39;00m\n",
      "File \u001b[1;32md:\\anaconda3\\lib\\site-packages\\joblib\\parallel.py:1098\u001b[0m, in \u001b[0;36mParallel.__call__\u001b[1;34m(self, iterable)\u001b[0m\n\u001b[0;32m   1095\u001b[0m     \u001b[38;5;28mself\u001b[39m\u001b[38;5;241m.\u001b[39m_iterating \u001b[38;5;241m=\u001b[39m \u001b[38;5;28;01mFalse\u001b[39;00m\n\u001b[0;32m   1097\u001b[0m \u001b[38;5;28;01mwith\u001b[39;00m \u001b[38;5;28mself\u001b[39m\u001b[38;5;241m.\u001b[39m_backend\u001b[38;5;241m.\u001b[39mretrieval_context():\n\u001b[1;32m-> 1098\u001b[0m     \u001b[38;5;28;43mself\u001b[39;49m\u001b[38;5;241;43m.\u001b[39;49m\u001b[43mretrieve\u001b[49m\u001b[43m(\u001b[49m\u001b[43m)\u001b[49m\n\u001b[0;32m   1099\u001b[0m \u001b[38;5;66;03m# Make sure that we get a last message telling us we are done\u001b[39;00m\n\u001b[0;32m   1100\u001b[0m elapsed_time \u001b[38;5;241m=\u001b[39m time\u001b[38;5;241m.\u001b[39mtime() \u001b[38;5;241m-\u001b[39m \u001b[38;5;28mself\u001b[39m\u001b[38;5;241m.\u001b[39m_start_time\n",
      "File \u001b[1;32md:\\anaconda3\\lib\\site-packages\\joblib\\parallel.py:975\u001b[0m, in \u001b[0;36mParallel.retrieve\u001b[1;34m(self)\u001b[0m\n\u001b[0;32m    973\u001b[0m \u001b[38;5;28;01mtry\u001b[39;00m:\n\u001b[0;32m    974\u001b[0m     \u001b[38;5;28;01mif\u001b[39;00m \u001b[38;5;28mgetattr\u001b[39m(\u001b[38;5;28mself\u001b[39m\u001b[38;5;241m.\u001b[39m_backend, \u001b[38;5;124m'\u001b[39m\u001b[38;5;124msupports_timeout\u001b[39m\u001b[38;5;124m'\u001b[39m, \u001b[38;5;28;01mFalse\u001b[39;00m):\n\u001b[1;32m--> 975\u001b[0m         \u001b[38;5;28mself\u001b[39m\u001b[38;5;241m.\u001b[39m_output\u001b[38;5;241m.\u001b[39mextend(\u001b[43mjob\u001b[49m\u001b[38;5;241;43m.\u001b[39;49m\u001b[43mget\u001b[49m\u001b[43m(\u001b[49m\u001b[43mtimeout\u001b[49m\u001b[38;5;241;43m=\u001b[39;49m\u001b[38;5;28;43mself\u001b[39;49m\u001b[38;5;241;43m.\u001b[39;49m\u001b[43mtimeout\u001b[49m\u001b[43m)\u001b[49m)\n\u001b[0;32m    976\u001b[0m     \u001b[38;5;28;01melse\u001b[39;00m:\n\u001b[0;32m    977\u001b[0m         \u001b[38;5;28mself\u001b[39m\u001b[38;5;241m.\u001b[39m_output\u001b[38;5;241m.\u001b[39mextend(job\u001b[38;5;241m.\u001b[39mget())\n",
      "File \u001b[1;32md:\\anaconda3\\lib\\site-packages\\joblib\\_parallel_backends.py:567\u001b[0m, in \u001b[0;36mLokyBackend.wrap_future_result\u001b[1;34m(future, timeout)\u001b[0m\n\u001b[0;32m    564\u001b[0m \u001b[38;5;250m\u001b[39m\u001b[38;5;124;03m\"\"\"Wrapper for Future.result to implement the same behaviour as\u001b[39;00m\n\u001b[0;32m    565\u001b[0m \u001b[38;5;124;03mAsyncResults.get from multiprocessing.\"\"\"\u001b[39;00m\n\u001b[0;32m    566\u001b[0m \u001b[38;5;28;01mtry\u001b[39;00m:\n\u001b[1;32m--> 567\u001b[0m     \u001b[38;5;28;01mreturn\u001b[39;00m \u001b[43mfuture\u001b[49m\u001b[38;5;241;43m.\u001b[39;49m\u001b[43mresult\u001b[49m\u001b[43m(\u001b[49m\u001b[43mtimeout\u001b[49m\u001b[38;5;241;43m=\u001b[39;49m\u001b[43mtimeout\u001b[49m\u001b[43m)\u001b[49m\n\u001b[0;32m    568\u001b[0m \u001b[38;5;28;01mexcept\u001b[39;00m CfTimeoutError \u001b[38;5;28;01mas\u001b[39;00m e:\n\u001b[0;32m    569\u001b[0m     \u001b[38;5;28;01mraise\u001b[39;00m \u001b[38;5;167;01mTimeoutError\u001b[39;00m \u001b[38;5;28;01mfrom\u001b[39;00m \u001b[38;5;21;01me\u001b[39;00m\n",
      "File \u001b[1;32md:\\anaconda3\\lib\\concurrent\\futures\\_base.py:444\u001b[0m, in \u001b[0;36mFuture.result\u001b[1;34m(self, timeout)\u001b[0m\n\u001b[0;32m    442\u001b[0m     \u001b[38;5;28;01mraise\u001b[39;00m CancelledError()\n\u001b[0;32m    443\u001b[0m \u001b[38;5;28;01melif\u001b[39;00m \u001b[38;5;28mself\u001b[39m\u001b[38;5;241m.\u001b[39m_state \u001b[38;5;241m==\u001b[39m FINISHED:\n\u001b[1;32m--> 444\u001b[0m     \u001b[38;5;28;01mreturn\u001b[39;00m \u001b[38;5;28;43mself\u001b[39;49m\u001b[38;5;241;43m.\u001b[39;49m\u001b[43m__get_result\u001b[49m\u001b[43m(\u001b[49m\u001b[43m)\u001b[49m\n\u001b[0;32m    445\u001b[0m \u001b[38;5;28;01melse\u001b[39;00m:\n\u001b[0;32m    446\u001b[0m     \u001b[38;5;28;01mraise\u001b[39;00m \u001b[38;5;167;01mTimeoutError\u001b[39;00m()\n",
      "File \u001b[1;32md:\\anaconda3\\lib\\concurrent\\futures\\_base.py:389\u001b[0m, in \u001b[0;36mFuture.__get_result\u001b[1;34m(self)\u001b[0m\n\u001b[0;32m    387\u001b[0m \u001b[38;5;28;01mif\u001b[39;00m \u001b[38;5;28mself\u001b[39m\u001b[38;5;241m.\u001b[39m_exception:\n\u001b[0;32m    388\u001b[0m     \u001b[38;5;28;01mtry\u001b[39;00m:\n\u001b[1;32m--> 389\u001b[0m         \u001b[38;5;28;01mraise\u001b[39;00m \u001b[38;5;28mself\u001b[39m\u001b[38;5;241m.\u001b[39m_exception\n\u001b[0;32m    390\u001b[0m     \u001b[38;5;28;01mfinally\u001b[39;00m:\n\u001b[0;32m    391\u001b[0m         \u001b[38;5;66;03m# Break a reference cycle with the exception in self._exception\u001b[39;00m\n\u001b[0;32m    392\u001b[0m         \u001b[38;5;28mself\u001b[39m \u001b[38;5;241m=\u001b[39m \u001b[38;5;28;01mNone\u001b[39;00m\n",
      "\u001b[1;31mTerminatedWorkerError\u001b[0m: A worker process managed by the executor was unexpectedly terminated. This could be caused by a segmentation fault while calling the function or by an excessive memory usage causing the Operating System to kill the worker.\n"
     ]
    }
   ],
   "source": [
    "# gp_minimize performs by default GP Optimization \n",
    "# using a Marten Kernel\n",
    "print(\"Optimisation started...\")\n",
    "gp_ = gp_minimize(\n",
    "    objective_rfc, # the objective function to minimize\n",
    "    param_grid, # the hyperparameter space\n",
    "    n_initial_points=10, # the number of points to evaluate f(x) to start of\n",
    "    acq_func='EI', # the acquisition function\n",
    "    n_calls=10, # the number of subsequent evaluations of f(x)\n",
    "    random_state=0, \n",
    ")"
   ]
  },
  {
   "cell_type": "code",
   "execution_count": null,
   "id": "e5ac020c",
   "metadata": {},
   "outputs": [],
   "source": [
    "# function value at the minimum.\n",
    "# note that it is the negative of the accuracy\n",
    "\n",
    "\"Best score=%.4f\" % gp_.fun"
   ]
  },
  {
   "cell_type": "code",
   "execution_count": null,
   "id": "bac15c35",
   "metadata": {},
   "outputs": [],
   "source": [
    "print(\"\"\"Best parameters for Random Forest Classifier:\n",
    "=========================\n",
    "- n_estimators = %d\n",
    "- max_depth = %.6f\n",
    "- class_weight = %s\n",
    "- bootsrap = %s\n",
    "- min_impurity_decrease = %.6f\n",
    "\"\"\" % (gp_.x[0],\n",
    "       gp_.x[1],\n",
    "       gp_.x[2],\n",
    "       gp_.x[3],\n",
    "       gp_.x[4],\n",
    "      ))"
   ]
  }
 ],
 "metadata": {
  "kernelspec": {
   "display_name": "Python 3 (ipykernel)",
   "language": "python",
   "name": "python3"
  },
  "language_info": {
   "codemirror_mode": {
    "name": "ipython",
    "version": 3
   },
   "file_extension": ".py",
   "mimetype": "text/x-python",
   "name": "python",
   "nbconvert_exporter": "python",
   "pygments_lexer": "ipython3",
   "version": "3.8.16"
  }
 },
 "nbformat": 4,
 "nbformat_minor": 5
}
